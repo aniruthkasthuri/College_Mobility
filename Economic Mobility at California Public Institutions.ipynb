{
 "cells": [
  {
   "cell_type": "markdown",
   "metadata": {},
   "source": [
    "## Lab 1\n",
    "### UGBA 96: Data and Decisions\n",
    "\n",
    "<br>\n",
    "\n",
    "## Economic Mobility at Calfornia Public Institutions\n",
    "\n",
    "In this lab we will analyze the data on college Mobility Report Cards from lecture to answer more questions about economic mobility, specifically at public universities and community colleges in California. One important justification for public spending on higher education is that colleges and universities are engines of social mobility. We will investigate how access, success, and upward mobility rates vary across institutions. We will write a function that generates a Report Card for a provided institution. We will also explore how access has changed over time, as California’s spending on public higher education has declined or stagnated. \n",
    "\n",
    "The lab is intended to illustrate how descriptive statistics alone can provide valuable insight.\n",
    "\n",
    "Dependencies\n",
    "\n",
    "- Numpy\n",
    "- Matplotlib"
   ]
  },
  {
   "cell_type": "code",
   "execution_count": 67,
   "metadata": {},
   "outputs": [],
   "source": [
    "from datascience import *\n",
    "import numpy as np\n",
    "\n",
    "#These lines set up graphing capabilities.\n",
    "import matplotlib.pyplot as plt\n",
    "%matplotlib inline"
   ]
  },
  {
   "cell_type": "markdown",
   "metadata": {},
   "source": [
    "## 1. Comparing Access, Success, and Mobility Across Institutions\n",
    "First, we’ll open the cross-sectional data from the paper. In this dataset there is one row of data for each college and university in the US.\n",
    "\n",
    "(Though we discuss the columns we'll use in this lab, look [here](http://www.equality-of-opportunity.org/data/college/Codebook%20MRC%20Table%202.pdf) for documentation on the remaining contents of these data.)\n",
    "\n",
    "\n",
    "** 1.1 ** First, let's load the data and the specific columns we'll use in this lab."
   ]
  },
  {
   "cell_type": "code",
   "execution_count": 68,
   "metadata": {},
   "outputs": [
    {
     "name": "stdout",
     "output_type": "stream",
     "text": [
      "Table Dimensions: 21 X 2202\n"
     ]
    },
    {
     "data": {
      "text/html": [
       "<table border=\"1\" class=\"dataframe\">\n",
       "    <thead>\n",
       "        <tr>\n",
       "            <th>super_opeid</th> <th>name</th> <th>type</th> <th>tier</th> <th>iclevel</th> <th>state</th> <th>count</th> <th>mr_kq5_pq1</th> <th>par_mean</th> <th>par_median</th> <th>par_rank</th> <th>par_q1</th> <th>par_q2</th> <th>par_q3</th> <th>par_q4</th> <th>par_q5</th> <th>kq5_cond_parq1</th> <th>kq5_cond_parq2</th> <th>kq5_cond_parq3</th> <th>kq5_cond_parq4</th> <th>kq5_cond_parq5</th>\n",
       "        </tr>\n",
       "    </thead>\n",
       "    <tbody>\n",
       "        <tr>\n",
       "            <td>30955      </td> <td>ASA Institute Of Business & Computer Technology             </td> <td>Private For-profit</td> <td>Two-year for-profit                         </td> <td>Two-year </td> <td>NY   </td> <td>275    </td> <td>0.0200339 </td> <td>35390.4 </td> <td>29000     </td> <td>0.274209</td> <td>0.443575 </td> <td>0.32679 </td> <td>0.143711</td> <td>0.0597068</td> <td>0.0262172</td> <td>0.0451647     </td> <td>0.0846899     </td> <td>0.0700376     </td> <td>0.115644      </td> <td>0.197233      </td>\n",
       "        </tr>\n",
       "    </tbody>\n",
       "        <tr>\n",
       "            <td>3537       </td> <td>Abilene Christian University                                </td> <td>Private Non-profit</td> <td>Selective private                           </td> <td>Four-year</td> <td>TX   </td> <td>838.667</td> <td>0.0143638 </td> <td>138761  </td> <td>101000    </td> <td>0.683686</td> <td>0.0524414</td> <td>0.101032</td> <td>0.163936</td> <td>0.25824  </td> <td>0.424351 </td> <td>0.273903      </td> <td>0.247651      </td> <td>0.201662      </td> <td>0.314671      </td> <td>0.361872      </td>\n",
       "        </tr>\n",
       "    </tbody>\n",
       "        <tr>\n",
       "            <td>1541       </td> <td>Abraham Baldwin Agricultural College                        </td> <td>Public            </td> <td>Nonselective four-year public               </td> <td>Four-year</td> <td>GA   </td> <td>679.333</td> <td>0.0148573 </td> <td>80366.7 </td> <td>66000     </td> <td>0.525406</td> <td>0.154555 </td> <td>0.187159</td> <td>0.225497</td> <td>0.236763 </td> <td>0.196027 </td> <td>0.0961297     </td> <td>0.142476      </td> <td>0.16164       </td> <td>0.201234      </td> <td>0.225072      </td>\n",
       "        </tr>\n",
       "    </tbody>\n",
       "        <tr>\n",
       "            <td>7531       </td> <td>Academy Of Art University                                   </td> <td>Private For-profit</td> <td>Four-year for-profit                        </td> <td>Four-year</td> <td>CA   </td> <td>495.667</td> <td>0.0163574 </td> <td>166595  </td> <td>92300     </td> <td>0.64921 </td> <td>0.0935242</td> <td>0.122917</td> <td>0.175349</td> <td>0.211525 </td> <td>0.396684 </td> <td>0.1749        </td> <td>0.244055      </td> <td>0.251138      </td> <td>0.251914      </td> <td>0.296605      </td>\n",
       "        </tr>\n",
       "    </tbody>\n",
       "        <tr>\n",
       "            <td>1345       </td> <td>Adams State University                                      </td> <td>Public            </td> <td>Selective public                            </td> <td>Four-year</td> <td>CO   </td> <td>393.333</td> <td>0.0188447 </td> <td>76121.8 </td> <td>67200     </td> <td>0.540471</td> <td>0.129224 </td> <td>0.185504</td> <td>0.248429</td> <td>0.260876 </td> <td>0.175967 </td> <td>0.145829      </td> <td>0.162433      </td> <td>0.202049      </td> <td>0.203434      </td> <td>0.291564      </td>\n",
       "        </tr>\n",
       "    </tbody>\n",
       "        <tr>\n",
       "            <td>2666       </td> <td>Adelphi University                                          </td> <td>Private Non-profit</td> <td>Selective private                           </td> <td>Four-year</td> <td>NY   </td> <td>509    </td> <td>0.0325851 </td> <td>130724  </td> <td>96300     </td> <td>0.648892</td> <td>0.087048 </td> <td>0.128539</td> <td>0.156434</td> <td>0.229865 </td> <td>0.398115 </td> <td>0.374334      </td> <td>0.412744      </td> <td>0.435048      </td> <td>0.428085      </td> <td>0.486246      </td>\n",
       "        </tr>\n",
       "    </tbody>\n",
       "        <tr>\n",
       "            <td>2860       </td> <td>Adirondack Community College - SUNY Office Of Community  ...</td> <td>Public            </td> <td>Two-year (public and private not-for-profit)</td> <td>Two-year </td> <td>NY   </td> <td>663    </td> <td>0.00994093</td> <td>75699.3 </td> <td>69900     </td> <td>0.534997</td> <td>0.114288 </td> <td>0.177607</td> <td>0.255219</td> <td>0.294449 </td> <td>0.158437 </td> <td>0.0869813     </td> <td>0.152086      </td> <td>0.161077      </td> <td>0.193027      </td> <td>0.216319      </td>\n",
       "        </tr>\n",
       "    </tbody>\n",
       "        <tr>\n",
       "            <td>2234       </td> <td>Adrian College                                              </td> <td>Private Non-profit</td> <td>Selective private                           </td> <td>Four-year</td> <td>MI   </td> <td>240.333</td> <td>0.00956463</td> <td>113708  </td> <td>88500     </td> <td>0.643139</td> <td>0.0607603</td> <td>0.115356</td> <td>0.200813</td> <td>0.281327 </td> <td>0.341744 </td> <td>0.157416      </td> <td>0.224237      </td> <td>0.216115      </td> <td>0.275071      </td> <td>0.338695      </td>\n",
       "        </tr>\n",
       "    </tbody>\n",
       "        <tr>\n",
       "            <td>11484      </td> <td>Advanced Institute Of Hair Design                           </td> <td>Private For-profit</td> <td>Two-year for-profit                         </td> <td>Two-year </td> <td>WI   </td> <td>58     </td> <td>0.0201729 </td> <td>90962.8 </td> <td>78100     </td> <td>0.621007</td> <td>0.0259021</td> <td>0.111165</td> <td>0.254503</td> <td>0.408    </td> <td>0.20043  </td> <td>0.778813      </td> <td>0.0377138     </td> <td>0.0397531     </td> <td>0.0395086     </td> <td>0.0870772     </td>\n",
       "        </tr>\n",
       "    </tbody>\n",
       "        <tr>\n",
       "            <td>31275      </td> <td>Advanced Technology Institute                               </td> <td>Private For-profit</td> <td>Two-year for-profit                         </td> <td>Two-year </td> <td>VA   </td> <td>127.667</td> <td>0.0314387 </td> <td>69400.1 </td> <td>57200     </td> <td>0.481593</td> <td>0.159531 </td> <td>0.218921</td> <td>0.262734</td> <td>0.223529 </td> <td>0.135285 </td> <td>0.197069      </td> <td>0.136637      </td> <td>0.112319      </td> <td>0.26891       </td> <td>0.248177      </td>\n",
       "        </tr>\n",
       "    </tbody>\n",
       "</table>\n",
       "<p>... (2192 rows omitted)</p"
      ],
      "text/plain": [
       "super_opeid | name                                                         | type               | tier                                         | iclevel   | state | count   | mr_kq5_pq1 | par_mean | par_median | par_rank | par_q1    | par_q2   | par_q3   | par_q4    | par_q5    | kq5_cond_parq1 | kq5_cond_parq2 | kq5_cond_parq3 | kq5_cond_parq4 | kq5_cond_parq5\n",
       "30955       | ASA Institute Of Business & Computer Technology              | Private For-profit | Two-year for-profit                          | Two-year  | NY    | 275     | 0.0200339  | 35390.4  | 29000      | 0.274209 | 0.443575  | 0.32679  | 0.143711 | 0.0597068 | 0.0262172 | 0.0451647      | 0.0846899      | 0.0700376      | 0.115644       | 0.197233\n",
       "3537        | Abilene Christian University                                 | Private Non-profit | Selective private                            | Four-year | TX    | 838.667 | 0.0143638  | 138761   | 101000     | 0.683686 | 0.0524414 | 0.101032 | 0.163936 | 0.25824   | 0.424351  | 0.273903       | 0.247651       | 0.201662       | 0.314671       | 0.361872\n",
       "1541        | Abraham Baldwin Agricultural College                         | Public             | Nonselective four-year public                | Four-year | GA    | 679.333 | 0.0148573  | 80366.7  | 66000      | 0.525406 | 0.154555  | 0.187159 | 0.225497 | 0.236763  | 0.196027  | 0.0961297      | 0.142476       | 0.16164        | 0.201234       | 0.225072\n",
       "7531        | Academy Of Art University                                    | Private For-profit | Four-year for-profit                         | Four-year | CA    | 495.667 | 0.0163574  | 166595   | 92300      | 0.64921  | 0.0935242 | 0.122917 | 0.175349 | 0.211525  | 0.396684  | 0.1749         | 0.244055       | 0.251138       | 0.251914       | 0.296605\n",
       "1345        | Adams State University                                       | Public             | Selective public                             | Four-year | CO    | 393.333 | 0.0188447  | 76121.8  | 67200      | 0.540471 | 0.129224  | 0.185504 | 0.248429 | 0.260876  | 0.175967  | 0.145829       | 0.162433       | 0.202049       | 0.203434       | 0.291564\n",
       "2666        | Adelphi University                                           | Private Non-profit | Selective private                            | Four-year | NY    | 509     | 0.0325851  | 130724   | 96300      | 0.648892 | 0.087048  | 0.128539 | 0.156434 | 0.229865  | 0.398115  | 0.374334       | 0.412744       | 0.435048       | 0.428085       | 0.486246\n",
       "2860        | Adirondack Community College - SUNY Office Of Community  ... | Public             | Two-year (public and private not-for-profit) | Two-year  | NY    | 663     | 0.00994093 | 75699.3  | 69900      | 0.534997 | 0.114288  | 0.177607 | 0.255219 | 0.294449  | 0.158437  | 0.0869813      | 0.152086       | 0.161077       | 0.193027       | 0.216319\n",
       "2234        | Adrian College                                               | Private Non-profit | Selective private                            | Four-year | MI    | 240.333 | 0.00956463 | 113708   | 88500      | 0.643139 | 0.0607603 | 0.115356 | 0.200813 | 0.281327  | 0.341744  | 0.157416       | 0.224237       | 0.216115       | 0.275071       | 0.338695\n",
       "11484       | Advanced Institute Of Hair Design                            | Private For-profit | Two-year for-profit                          | Two-year  | WI    | 58      | 0.0201729  | 90962.8  | 78100      | 0.621007 | 0.0259021 | 0.111165 | 0.254503 | 0.408     | 0.20043   | 0.778813       | 0.0377138      | 0.0397531      | 0.0395086      | 0.0870772\n",
       "31275       | Advanced Technology Institute                                | Private For-profit | Two-year for-profit                          | Two-year  | VA    | 127.667 | 0.0314387  | 69400.1  | 57200      | 0.481593 | 0.159531  | 0.218921 | 0.262734 | 0.223529  | 0.135285  | 0.197069       | 0.136637       | 0.112319       | 0.26891        | 0.248177\n",
       "... (2192 rows omitted)"
      ]
     },
     "execution_count": 68,
     "metadata": {},
     "output_type": "execute_result"
    }
   ],
   "source": [
    "mobility = Table.read_table(\"mrc_table2.csv\").select(['super_opeid', 'name', 'type', 'tier', 'iclevel', 'state', 'count', 'mr_kq5_pq1', 'par_mean', 'par_median',\n",
    "         'par_rank', 'par_q1', 'par_q2', 'par_q3', 'par_q4', 'par_q5', 'kq5_cond_parq1', 'kq5_cond_parq2', 'kq5_cond_parq3', 'kq5_cond_parq4', 'kq5_cond_parq5'])\n",
    "\n",
    "print(\"Table Dimensions:\", mobility.num_columns , \"X\" , mobility.num_rows)\n",
    "mobility"
   ]
  },
  {
   "cell_type": "markdown",
   "metadata": {},
   "source": [
    "**1.2** In this lab we will focus on Calfornia public institutions. Let’s filter the data to reflect this."
   ]
  },
  {
   "cell_type": "code",
   "execution_count": 69,
   "metadata": {},
   "outputs": [
    {
     "name": "stdout",
     "output_type": "stream",
     "text": [
      "Table Dimensions: 21 X 100\n"
     ]
    },
    {
     "data": {
      "text/html": [
       "<table border=\"1\" class=\"dataframe\">\n",
       "    <thead>\n",
       "        <tr>\n",
       "            <th>super_opeid</th> <th>name</th> <th>type</th> <th>tier</th> <th>iclevel</th> <th>state</th> <th>count</th> <th>mr_kq5_pq1</th> <th>par_mean</th> <th>par_median</th> <th>par_rank</th> <th>par_q1</th> <th>par_q2</th> <th>par_q3</th> <th>par_q4</th> <th>par_q5</th> <th>kq5_cond_parq1</th> <th>kq5_cond_parq2</th> <th>kq5_cond_parq3</th> <th>kq5_cond_parq4</th> <th>kq5_cond_parq5</th>\n",
       "        </tr>\n",
       "    </thead>\n",
       "    <tbody>\n",
       "        <tr>\n",
       "            <td>1111       </td> <td>Allan Hancock College                          </td> <td>Public</td> <td>Two-year (public and private not-for-profit)</td> <td>Two-year </td> <td>CA   </td> <td>1220   </td> <td>0.0194642 </td> <td>76983.8 </td> <td>65700     </td> <td>0.529356</td> <td>0.140892 </td> <td>0.18906  </td> <td>0.234964</td> <td>0.256879</td> <td>0.178205</td> <td>0.13815       </td> <td>0.177481      </td> <td>0.142748      </td> <td>0.22633       </td> <td>0.237283      </td>\n",
       "        </tr>\n",
       "    </tbody>\n",
       "        <tr>\n",
       "            <td>1113       </td> <td>Antelope Valley College                        </td> <td>Public</td> <td>Two-year (public and private not-for-profit)</td> <td>Two-year </td> <td>CA   </td> <td>1904.67</td> <td>0.0192804 </td> <td>71043.7 </td> <td>66600     </td> <td>0.520847</td> <td>0.164019 </td> <td>0.174746 </td> <td>0.219868</td> <td>0.262804</td> <td>0.178563</td> <td>0.11755       </td> <td>0.160699      </td> <td>0.186232      </td> <td>0.239308      </td> <td>0.241404      </td>\n",
       "        </tr>\n",
       "    </tbody>\n",
       "        <tr>\n",
       "            <td>1119       </td> <td>Barstow Community College                      </td> <td>Public</td> <td>Two-year (public and private not-for-profit)</td> <td>Two-year </td> <td>CA   </td> <td>478    </td> <td>0.034889  </td> <td>62711.7 </td> <td>58000     </td> <td>0.470689</td> <td>0.189246 </td> <td>0.212735 </td> <td>0.258158</td> <td>0.233625</td> <td>0.106236</td> <td>0.184357      </td> <td>0.159173      </td> <td>0.192538      </td> <td>0.219748      </td> <td>0.215737      </td>\n",
       "        </tr>\n",
       "    </tbody>\n",
       "        <tr>\n",
       "            <td>8073       </td> <td>Butte College                                  </td> <td>Public</td> <td>Two-year (public and private not-for-profit)</td> <td>Two-year </td> <td>CA   </td> <td>1751   </td> <td>0.0195759 </td> <td>81294.3 </td> <td>64100     </td> <td>0.523958</td> <td>0.160595 </td> <td>0.191634 </td> <td>0.219265</td> <td>0.232414</td> <td>0.196092</td> <td>0.121896      </td> <td>0.154983      </td> <td>0.188043      </td> <td>0.22489       </td> <td>0.289993      </td>\n",
       "        </tr>\n",
       "    </tbody>\n",
       "        <tr>\n",
       "            <td>1124       </td> <td>Cabrillo College                               </td> <td>Public</td> <td>Two-year (public and private not-for-profit)</td> <td>Two-year </td> <td>CA   </td> <td>1641   </td> <td>0.01749   </td> <td>103352  </td> <td>70200     </td> <td>0.560304</td> <td>0.14195  </td> <td>0.186602 </td> <td>0.194204</td> <td>0.202574</td> <td>0.27467 </td> <td>0.123212      </td> <td>0.168418      </td> <td>0.183345      </td> <td>0.226415      </td> <td>0.241433      </td>\n",
       "        </tr>\n",
       "    </tbody>\n",
       "        <tr>\n",
       "            <td>1134       </td> <td>California Maritime Academy                    </td> <td>Public</td> <td>Selective public                            </td> <td>Four-year</td> <td>CA   </td> <td>92     </td> <td>0.0503638 </td> <td>132454  </td> <td>113100    </td> <td>0.712131</td> <td>0.0592691</td> <td>0.0725417</td> <td>0.163071</td> <td>0.199129</td> <td>0.505989</td> <td>0.849747      </td> <td>0.648926      </td> <td>0.576723      </td> <td>0.702518      </td> <td>0.767326      </td>\n",
       "        </tr>\n",
       "    </tbody>\n",
       "        <tr>\n",
       "            <td>1143       </td> <td>California Polytechnic State University        </td> <td>Public</td> <td>Selective public                            </td> <td>Four-year</td> <td>CA   </td> <td>2887.67</td> <td>0.0224849 </td> <td>169836  </td> <td>124800    </td> <td>0.753249</td> <td>0.0419739</td> <td>0.0677819</td> <td>0.111822</td> <td>0.202395</td> <td>0.576028</td> <td>0.535687      </td> <td>0.549185      </td> <td>0.587494      </td> <td>0.557811      </td> <td>0.607777      </td>\n",
       "        </tr>\n",
       "    </tbody>\n",
       "        <tr>\n",
       "            <td>1144       </td> <td>California State Polytechnic University, Pomona</td> <td>Public</td> <td>Selective public                            </td> <td>Four-year</td> <td>CA   </td> <td>2195.33</td> <td>0.068334  </td> <td>98379   </td> <td>80200     </td> <td>0.583456</td> <td>0.149297 </td> <td>0.154089 </td> <td>0.158693</td> <td>0.209419</td> <td>0.328502</td> <td>0.457705      </td> <td>0.465166      </td> <td>0.477746      </td> <td>0.505289      </td> <td>0.526753      </td>\n",
       "        </tr>\n",
       "    </tbody>\n",
       "        <tr>\n",
       "            <td>1150       </td> <td>California State University - Sacramento       </td> <td>Public</td> <td>Selective public                            </td> <td>Four-year</td> <td>CA   </td> <td>2041.33</td> <td>0.0333323 </td> <td>107519  </td> <td>88700     </td> <td>0.623631</td> <td>0.104529 </td> <td>0.133005 </td> <td>0.16694 </td> <td>0.236661</td> <td>0.358864</td> <td>0.318882      </td> <td>0.339189      </td> <td>0.386855      </td> <td>0.40559       </td> <td>0.440235      </td>\n",
       "        </tr>\n",
       "    </tbody>\n",
       "        <tr>\n",
       "            <td>39803      </td> <td>California State University Channel Islands    </td> <td>Public</td> <td>Nonselective four-year public               </td> <td>Four-year</td> <td>CA   </td> <td>50     </td> <td>0.0159773 </td> <td>141961  </td> <td>96300     </td> <td>0.664562</td> <td>0.0506875</td> <td>0.100416 </td> <td>0.180595</td> <td>0.220046</td> <td>0.448255</td> <td>0.315212      </td> <td>0.0789054     </td> <td>0.331507      </td> <td>0.470838      </td> <td>0.307285      </td>\n",
       "        </tr>\n",
       "    </tbody>\n",
       "</table>\n",
       "<p>... (90 rows omitted)</p"
      ],
      "text/plain": [
       "super_opeid | name                                            | type   | tier                                         | iclevel   | state | count   | mr_kq5_pq1 | par_mean | par_median | par_rank | par_q1    | par_q2    | par_q3   | par_q4   | par_q5   | kq5_cond_parq1 | kq5_cond_parq2 | kq5_cond_parq3 | kq5_cond_parq4 | kq5_cond_parq5\n",
       "1111        | Allan Hancock College                           | Public | Two-year (public and private not-for-profit) | Two-year  | CA    | 1220    | 0.0194642  | 76983.8  | 65700      | 0.529356 | 0.140892  | 0.18906   | 0.234964 | 0.256879 | 0.178205 | 0.13815        | 0.177481       | 0.142748       | 0.22633        | 0.237283\n",
       "1113        | Antelope Valley College                         | Public | Two-year (public and private not-for-profit) | Two-year  | CA    | 1904.67 | 0.0192804  | 71043.7  | 66600      | 0.520847 | 0.164019  | 0.174746  | 0.219868 | 0.262804 | 0.178563 | 0.11755        | 0.160699       | 0.186232       | 0.239308       | 0.241404\n",
       "1119        | Barstow Community College                       | Public | Two-year (public and private not-for-profit) | Two-year  | CA    | 478     | 0.034889   | 62711.7  | 58000      | 0.470689 | 0.189246  | 0.212735  | 0.258158 | 0.233625 | 0.106236 | 0.184357       | 0.159173       | 0.192538       | 0.219748       | 0.215737\n",
       "8073        | Butte College                                   | Public | Two-year (public and private not-for-profit) | Two-year  | CA    | 1751    | 0.0195759  | 81294.3  | 64100      | 0.523958 | 0.160595  | 0.191634  | 0.219265 | 0.232414 | 0.196092 | 0.121896       | 0.154983       | 0.188043       | 0.22489        | 0.289993\n",
       "1124        | Cabrillo College                                | Public | Two-year (public and private not-for-profit) | Two-year  | CA    | 1641    | 0.01749    | 103352   | 70200      | 0.560304 | 0.14195   | 0.186602  | 0.194204 | 0.202574 | 0.27467  | 0.123212       | 0.168418       | 0.183345       | 0.226415       | 0.241433\n",
       "1134        | California Maritime Academy                     | Public | Selective public                             | Four-year | CA    | 92      | 0.0503638  | 132454   | 113100     | 0.712131 | 0.0592691 | 0.0725417 | 0.163071 | 0.199129 | 0.505989 | 0.849747       | 0.648926       | 0.576723       | 0.702518       | 0.767326\n",
       "1143        | California Polytechnic State University         | Public | Selective public                             | Four-year | CA    | 2887.67 | 0.0224849  | 169836   | 124800     | 0.753249 | 0.0419739 | 0.0677819 | 0.111822 | 0.202395 | 0.576028 | 0.535687       | 0.549185       | 0.587494       | 0.557811       | 0.607777\n",
       "1144        | California State Polytechnic University, Pomona | Public | Selective public                             | Four-year | CA    | 2195.33 | 0.068334   | 98379    | 80200      | 0.583456 | 0.149297  | 0.154089  | 0.158693 | 0.209419 | 0.328502 | 0.457705       | 0.465166       | 0.477746       | 0.505289       | 0.526753\n",
       "1150        | California State University - Sacramento        | Public | Selective public                             | Four-year | CA    | 2041.33 | 0.0333323  | 107519   | 88700      | 0.623631 | 0.104529  | 0.133005  | 0.16694  | 0.236661 | 0.358864 | 0.318882       | 0.339189       | 0.386855       | 0.40559        | 0.440235\n",
       "39803       | California State University Channel Islands     | Public | Nonselective four-year public                | Four-year | CA    | 50      | 0.0159773  | 141961   | 96300      | 0.664562 | 0.0506875 | 0.100416  | 0.180595 | 0.220046 | 0.448255 | 0.315212       | 0.0789054      | 0.331507       | 0.470838       | 0.307285\n",
       "... (90 rows omitted)"
      ]
     },
     "execution_count": 69,
     "metadata": {},
     "output_type": "execute_result"
    }
   ],
   "source": [
    "ca_pub_mobility = mobility.where('type', are.equal_to('Public')).where('state', are.equal_to('CA'))\n",
    "\n",
    "print(\"Table Dimensions:\", ca_pub_mobility.num_columns , \"X\" , ca_pub_mobility.num_rows)\n",
    "ca_pub_mobility"
   ]
  },
  {
   "cell_type": "markdown",
   "metadata": {},
   "source": [
    "*Note: See how we can \"chained\" __.where__ statements? *\n",
    "\n",
    "This is because calling .where() on a table object, returns another table object, so you can theoretically use infinite .where() statements that each filter out rows of the table.\n",
    "\n",
    "We are left with a total of 100 institutions."
   ]
  },
  {
   "cell_type": "markdown",
   "metadata": {},
   "source": [
    "## Exploring the Data \n",
    "\n",
    "We will first describe the distributions of _access, success rates, and mobility rates_ across institutions. We use the same definitions of these terms used in the paper and described in lecture:\n",
    "\n",
    "- **`access` (`par_q1`):** the share of students enrolled that are ‘low income’–those whose parent's income is in the bottom quintile (bottom 20%) of the parental income distribution. Note: share values range from 0 to 1.\n",
    "\n",
    "    - Note: though we won't use these columns in the exercises in the columns below, we also have columns `par_q2`, `par_q3`, `par_q4`, and `par_q5`. These contain the share of students with parents in the rest of the income distribution. Feel free to explore these data after you've completed the exercises.\n",
    "\n",
    "\n",
    "- **`success` (`kq5_cond_parq1`):** the share of low income students with incomes in the top quintile (top 20%) of the student income distribution, measured at age 32-34.\n",
    "\n",
    "    - Note: though we won't use these columns in the exercises in the columns below, we also have columns `kq5_cond_parq2`, `kq5_cond_parq3`, `kq5_cond_parq4`, and `kq5_cond_parq5`. These contain the share of students with incomes in the top quintile of the student income distribution for students with parents in the rest of the income distribution. Feel free to explore these data after you've completed the exercises.\n",
    "\n",
    "\n",
    "- **`mobility` (`mr_kq5_pq1`):** the share of students enrolled that are both ‘low income’ and later have earnings in the top quintile (top 20%) of the student income distribution.\n",
    "\n",
    "Note that `mobility` $=$ `access` $\\times$ `success`. Hence, institutions with high mobility will tend to have more low income students and high 'success' rates with those students.\n",
    "\n",
    "** 1.3 ** To make the data easier to interpret, let's rescale these columns to express them as *percentages* rather than *shares.* To do this, we'll just multiply `par_q1`, `kq5_cond_parq1`, and `mr_kq5_pq1` by 100.\n"
   ]
  },
  {
   "cell_type": "code",
   "execution_count": 70,
   "metadata": {},
   "outputs": [
    {
     "data": {
      "text/html": [
       "<table border=\"1\" class=\"dataframe\">\n",
       "    <thead>\n",
       "        <tr>\n",
       "            <th>super_opeid</th> <th>name</th> <th>type</th> <th>tier</th> <th>iclevel</th> <th>state</th> <th>count</th> <th>mr_kq5_pq1</th> <th>par_mean</th> <th>par_median</th> <th>par_rank</th> <th>par_q1</th> <th>par_q2</th> <th>par_q3</th> <th>par_q4</th> <th>par_q5</th> <th>kq5_cond_parq1</th> <th>kq5_cond_parq2</th> <th>kq5_cond_parq3</th> <th>kq5_cond_parq4</th> <th>kq5_cond_parq5</th>\n",
       "        </tr>\n",
       "    </thead>\n",
       "    <tbody>\n",
       "        <tr>\n",
       "            <td>1111       </td> <td>Allan Hancock College                          </td> <td>Public</td> <td>Two-year (public and private not-for-profit)</td> <td>Two-year </td> <td>CA   </td> <td>1220   </td> <td>1.94642   </td> <td>76983.8 </td> <td>65700     </td> <td>0.529356</td> <td>14.0892</td> <td>18.906 </td> <td>23.4964</td> <td>25.6879</td> <td>17.8205</td> <td>13.815        </td> <td>17.7481       </td> <td>14.2748       </td> <td>22.633        </td> <td>23.7283       </td>\n",
       "        </tr>\n",
       "    </tbody>\n",
       "        <tr>\n",
       "            <td>1113       </td> <td>Antelope Valley College                        </td> <td>Public</td> <td>Two-year (public and private not-for-profit)</td> <td>Two-year </td> <td>CA   </td> <td>1904.67</td> <td>1.92804   </td> <td>71043.7 </td> <td>66600     </td> <td>0.520847</td> <td>16.4019</td> <td>17.4746</td> <td>21.9868</td> <td>26.2804</td> <td>17.8563</td> <td>11.755        </td> <td>16.0699       </td> <td>18.6232       </td> <td>23.9308       </td> <td>24.1404       </td>\n",
       "        </tr>\n",
       "    </tbody>\n",
       "        <tr>\n",
       "            <td>1119       </td> <td>Barstow Community College                      </td> <td>Public</td> <td>Two-year (public and private not-for-profit)</td> <td>Two-year </td> <td>CA   </td> <td>478    </td> <td>3.4889    </td> <td>62711.7 </td> <td>58000     </td> <td>0.470689</td> <td>18.9246</td> <td>21.2735</td> <td>25.8158</td> <td>23.3625</td> <td>10.6236</td> <td>18.4357       </td> <td>15.9173       </td> <td>19.2538       </td> <td>21.9748       </td> <td>21.5737       </td>\n",
       "        </tr>\n",
       "    </tbody>\n",
       "        <tr>\n",
       "            <td>8073       </td> <td>Butte College                                  </td> <td>Public</td> <td>Two-year (public and private not-for-profit)</td> <td>Two-year </td> <td>CA   </td> <td>1751   </td> <td>1.95759   </td> <td>81294.3 </td> <td>64100     </td> <td>0.523958</td> <td>16.0595</td> <td>19.1634</td> <td>21.9265</td> <td>23.2414</td> <td>19.6092</td> <td>12.1896       </td> <td>15.4983       </td> <td>18.8043       </td> <td>22.489        </td> <td>28.9993       </td>\n",
       "        </tr>\n",
       "    </tbody>\n",
       "        <tr>\n",
       "            <td>1124       </td> <td>Cabrillo College                               </td> <td>Public</td> <td>Two-year (public and private not-for-profit)</td> <td>Two-year </td> <td>CA   </td> <td>1641   </td> <td>1.749     </td> <td>103352  </td> <td>70200     </td> <td>0.560304</td> <td>14.195 </td> <td>18.6602</td> <td>19.4204</td> <td>20.2574</td> <td>27.467 </td> <td>12.3212       </td> <td>16.8418       </td> <td>18.3345       </td> <td>22.6415       </td> <td>24.1433       </td>\n",
       "        </tr>\n",
       "    </tbody>\n",
       "        <tr>\n",
       "            <td>1134       </td> <td>California Maritime Academy                    </td> <td>Public</td> <td>Selective public                            </td> <td>Four-year</td> <td>CA   </td> <td>92     </td> <td>5.03638   </td> <td>132454  </td> <td>113100    </td> <td>0.712131</td> <td>5.92691</td> <td>7.25417</td> <td>16.3071</td> <td>19.9129</td> <td>50.5989</td> <td>84.9747       </td> <td>64.8926       </td> <td>57.6723       </td> <td>70.2518       </td> <td>76.7326       </td>\n",
       "        </tr>\n",
       "    </tbody>\n",
       "        <tr>\n",
       "            <td>1143       </td> <td>California Polytechnic State University        </td> <td>Public</td> <td>Selective public                            </td> <td>Four-year</td> <td>CA   </td> <td>2887.67</td> <td>2.24849   </td> <td>169836  </td> <td>124800    </td> <td>0.753249</td> <td>4.19739</td> <td>6.77819</td> <td>11.1822</td> <td>20.2395</td> <td>57.6028</td> <td>53.5687       </td> <td>54.9185       </td> <td>58.7494       </td> <td>55.7811       </td> <td>60.7777       </td>\n",
       "        </tr>\n",
       "    </tbody>\n",
       "        <tr>\n",
       "            <td>1144       </td> <td>California State Polytechnic University, Pomona</td> <td>Public</td> <td>Selective public                            </td> <td>Four-year</td> <td>CA   </td> <td>2195.33</td> <td>6.8334    </td> <td>98379   </td> <td>80200     </td> <td>0.583456</td> <td>14.9297</td> <td>15.4089</td> <td>15.8693</td> <td>20.9419</td> <td>32.8502</td> <td>45.7705       </td> <td>46.5166       </td> <td>47.7746       </td> <td>50.5289       </td> <td>52.6753       </td>\n",
       "        </tr>\n",
       "    </tbody>\n",
       "        <tr>\n",
       "            <td>1150       </td> <td>California State University - Sacramento       </td> <td>Public</td> <td>Selective public                            </td> <td>Four-year</td> <td>CA   </td> <td>2041.33</td> <td>3.33323   </td> <td>107519  </td> <td>88700     </td> <td>0.623631</td> <td>10.4529</td> <td>13.3005</td> <td>16.694 </td> <td>23.6661</td> <td>35.8864</td> <td>31.8882       </td> <td>33.9189       </td> <td>38.6855       </td> <td>40.559        </td> <td>44.0235       </td>\n",
       "        </tr>\n",
       "    </tbody>\n",
       "        <tr>\n",
       "            <td>39803      </td> <td>California State University Channel Islands    </td> <td>Public</td> <td>Nonselective four-year public               </td> <td>Four-year</td> <td>CA   </td> <td>50     </td> <td>1.59773   </td> <td>141961  </td> <td>96300     </td> <td>0.664562</td> <td>5.06875</td> <td>10.0416</td> <td>18.0595</td> <td>22.0046</td> <td>44.8255</td> <td>31.5212       </td> <td>7.89054       </td> <td>33.1507       </td> <td>47.0838       </td> <td>30.7285       </td>\n",
       "        </tr>\n",
       "    </tbody>\n",
       "</table>\n",
       "<p>... (90 rows omitted)</p"
      ],
      "text/plain": [
       "super_opeid | name                                            | type   | tier                                         | iclevel   | state | count   | mr_kq5_pq1 | par_mean | par_median | par_rank | par_q1  | par_q2  | par_q3  | par_q4  | par_q5  | kq5_cond_parq1 | kq5_cond_parq2 | kq5_cond_parq3 | kq5_cond_parq4 | kq5_cond_parq5\n",
       "1111        | Allan Hancock College                           | Public | Two-year (public and private not-for-profit) | Two-year  | CA    | 1220    | 1.94642    | 76983.8  | 65700      | 0.529356 | 14.0892 | 18.906  | 23.4964 | 25.6879 | 17.8205 | 13.815         | 17.7481        | 14.2748        | 22.633         | 23.7283\n",
       "1113        | Antelope Valley College                         | Public | Two-year (public and private not-for-profit) | Two-year  | CA    | 1904.67 | 1.92804    | 71043.7  | 66600      | 0.520847 | 16.4019 | 17.4746 | 21.9868 | 26.2804 | 17.8563 | 11.755         | 16.0699        | 18.6232        | 23.9308        | 24.1404\n",
       "1119        | Barstow Community College                       | Public | Two-year (public and private not-for-profit) | Two-year  | CA    | 478     | 3.4889     | 62711.7  | 58000      | 0.470689 | 18.9246 | 21.2735 | 25.8158 | 23.3625 | 10.6236 | 18.4357        | 15.9173        | 19.2538        | 21.9748        | 21.5737\n",
       "8073        | Butte College                                   | Public | Two-year (public and private not-for-profit) | Two-year  | CA    | 1751    | 1.95759    | 81294.3  | 64100      | 0.523958 | 16.0595 | 19.1634 | 21.9265 | 23.2414 | 19.6092 | 12.1896        | 15.4983        | 18.8043        | 22.489         | 28.9993\n",
       "1124        | Cabrillo College                                | Public | Two-year (public and private not-for-profit) | Two-year  | CA    | 1641    | 1.749      | 103352   | 70200      | 0.560304 | 14.195  | 18.6602 | 19.4204 | 20.2574 | 27.467  | 12.3212        | 16.8418        | 18.3345        | 22.6415        | 24.1433\n",
       "1134        | California Maritime Academy                     | Public | Selective public                             | Four-year | CA    | 92      | 5.03638    | 132454   | 113100     | 0.712131 | 5.92691 | 7.25417 | 16.3071 | 19.9129 | 50.5989 | 84.9747        | 64.8926        | 57.6723        | 70.2518        | 76.7326\n",
       "1143        | California Polytechnic State University         | Public | Selective public                             | Four-year | CA    | 2887.67 | 2.24849    | 169836   | 124800     | 0.753249 | 4.19739 | 6.77819 | 11.1822 | 20.2395 | 57.6028 | 53.5687        | 54.9185        | 58.7494        | 55.7811        | 60.7777\n",
       "1144        | California State Polytechnic University, Pomona | Public | Selective public                             | Four-year | CA    | 2195.33 | 6.8334     | 98379    | 80200      | 0.583456 | 14.9297 | 15.4089 | 15.8693 | 20.9419 | 32.8502 | 45.7705        | 46.5166        | 47.7746        | 50.5289        | 52.6753\n",
       "1150        | California State University - Sacramento        | Public | Selective public                             | Four-year | CA    | 2041.33 | 3.33323    | 107519   | 88700      | 0.623631 | 10.4529 | 13.3005 | 16.694  | 23.6661 | 35.8864 | 31.8882        | 33.9189        | 38.6855        | 40.559         | 44.0235\n",
       "39803       | California State University Channel Islands     | Public | Nonselective four-year public                | Four-year | CA    | 50      | 1.59773    | 141961   | 96300      | 0.664562 | 5.06875 | 10.0416 | 18.0595 | 22.0046 | 44.8255 | 31.5212        | 7.89054        | 33.1507        | 47.0838        | 30.7285\n",
       "... (90 rows omitted)"
      ]
     },
     "execution_count": 70,
     "metadata": {},
     "output_type": "execute_result"
    }
   ],
   "source": [
    "#rescale access, success, and mobility rates\n",
    "#only run this once!\n",
    "ca_pub_mobility = ca_pub_mobility.with_columns(\n",
    "    'par_q1', ca_pub_mobility.column('par_q1')*100,\n",
    "    'par_q2', ca_pub_mobility.column('par_q2')*100,\n",
    "    'par_q3', ca_pub_mobility.column('par_q3')*100,\n",
    "    'par_q4', ca_pub_mobility.column('par_q4')*100,\n",
    "    'par_q5', ca_pub_mobility.column('par_q5')*100,\n",
    "    'kq5_cond_parq1', ca_pub_mobility.column('kq5_cond_parq1')*100,\n",
    "    'kq5_cond_parq2', ca_pub_mobility.column('kq5_cond_parq2')*100,\n",
    "    'kq5_cond_parq3', ca_pub_mobility.column('kq5_cond_parq3')*100,\n",
    "    'kq5_cond_parq4', ca_pub_mobility.column('kq5_cond_parq4')*100,\n",
    "    'kq5_cond_parq5', ca_pub_mobility.column('kq5_cond_parq5')*100,\n",
    "    'mr_kq5_pq1', ca_pub_mobility.column('mr_kq5_pq1')*100,\n",
    ")\n",
    "\n",
    "ca_pub_mobility"
   ]
  },
  {
   "cell_type": "markdown",
   "metadata": {},
   "source": [
    "### Access\n",
    "\n",
    "** 1.4 ** First let’s look at the distribution of `access` across institutions. We'll do this by creating a histogram of this column."
   ]
  },
  {
   "cell_type": "code",
   "execution_count": 71,
   "metadata": {},
   "outputs": [
    {
     "data": {
      "text/plain": [
       "<matplotlib.text.Text at 0x7f57ea2c2b38>"
      ]
     },
     "execution_count": 71,
     "metadata": {},
     "output_type": "execute_result"
    },
    {
     "data": {
      "image/png": "[encoded data removed]",
      "text/plain": [
       "<matplotlib.figure.Figure at 0x7f57ea2123c8>"
      ]
     },
     "metadata": {},
     "output_type": "display_data"
    }
   ],
   "source": [
    "#create histogram of access column (named par_q1)\n",
    "ca_pub_mobility.hist(\"par_q1\")\n",
    "\n",
    "#the code below will label the axes and title of your histogram\n",
    "plt.title('Distribution of Low Income Access at Calfornia Public Institutions')\n",
    "plt.xlabel('Low Income Access: Percent of Parents in Bottom Quintile')"
   ]
  },
  {
   "cell_type": "markdown",
   "metadata": {
    "collapsed": true
   },
   "source": [
    "Across institutions, `access` varies from about 0.05 to 0.35, with a relatively long right tail in the distribution.\n",
    "\n",
    "**1.5** Now, we'll look at some summary statistics of the data.\n",
    "\n",
    "Summary statistics are numbers we use to describe various aspects of our data, such as the *mean*, *standard deviation*, and various *percentiles*.\n",
    "\n",
    "Here, we compute the mean, standard deviation, 25th, 50th (median) and 75th percentiles of the column `access`."
   ]
  },
  {
   "cell_type": "code",
   "execution_count": 72,
   "metadata": {},
   "outputs": [
    {
     "name": "stdout",
     "output_type": "stream",
     "text": [
      "The mean of access is 14.896758593.\n",
      "The standard deviation of access is 6.5183898308.\n",
      "The 25th percentile of access is 9.9284111.\n",
      "The 50th percentile/median of access is 14.0630135.\n",
      "The 75th percentile of access is 18.806775.\n"
     ]
    }
   ],
   "source": [
    "#note: the function np.percentile(x, A) takes an array x and calculates percentiles of x corresponding to the values of an array A, ranging from 0-100.\n",
    "print(\"The mean of access is \"+str(np.mean(ca_pub_mobility.column(\"par_q1\")))+\".\")\n",
    "print(\"The standard deviation of access is \"+str(np.std(ca_pub_mobility.column(\"par_q1\")))+\".\")\n",
    "print(\"The 25th percentile of access is \"+str(np.percentile(ca_pub_mobility.column(\"par_q1\"),25))+\".\")\n",
    "print(\"The 50th percentile/median of access is \"+str(np.percentile(ca_pub_mobility.column(\"par_q1\"),50))+\".\")\n",
    "print(\"The 75th percentile of access is \"+str(np.percentile(ca_pub_mobility.column(\"par_q1\"),75))+\".\")"
   ]
  },
  {
   "cell_type": "markdown",
   "metadata": {},
   "source": [
    "Recall that, by definition, 20% of California college-aged adults have parents with income in the bottom quintile of the income distribution. Hence, if a school reflected the income mix of the population, it would have about 20% of its students coming from the bottom quintile of the income distribution. That would imply an `access` value of 0.20. Most institutions have fewer low income students than a 'representative' school would have, though some have more."
   ]
  },
  {
   "cell_type": "markdown",
   "metadata": {},
   "source": [
    "### Success Rates\n",
    "\n",
    "**1.6** Now let's look at the distribution of `success` across these institutions."
   ]
  },
  {
   "cell_type": "code",
   "execution_count": 73,
   "metadata": {},
   "outputs": [
    {
     "data": {
      "text/plain": [
       "<matplotlib.text.Text at 0x7f57ea3845f8>"
      ]
     },
     "execution_count": 73,
     "metadata": {},
     "output_type": "execute_result"
    },
    {
     "data": {
      "image/png": "[encoded data removed]",
      "text/plain": [
       "<matplotlib.figure.Figure at 0x7f57ea38f2e8>"
      ]
     },
     "metadata": {},
     "output_type": "display_data"
    }
   ],
   "source": [
    "#create histogram of access column (named kq5_cond_parq1)\n",
    "ca_pub_mobility.hist(\"kq5_cond_parq1\")\n",
    "#the code below will label the axes and title of your histogram\n",
    "plt.title('Distribution of \"Success\" at Calfornia Public Institutions')\n",
    "plt.xlabel('Success Rate: P(Child in Q5 | Parent in Q1)')"
   ]
  },
  {
   "cell_type": "markdown",
   "metadata": {},
   "source": [
    "Notice that one institution has a substantially larger `success` rate than the rest. This type of data point, one that does not fit the overall pattern of the data, is often referred to as an **outlier**.\n",
    "\n",
    "**1.7 ** What institution is that outlier?\n",
    "\n",
    "To find this, we can filter the table to look at rows where `success` is sufficiently large. Alternatively you can order the table by success and select the top row."
   ]
  },
  {
   "cell_type": "code",
   "execution_count": 74,
   "metadata": {},
   "outputs": [
    {
     "name": "stdout",
     "output_type": "stream",
     "text": [
      "The outlier institution is California Maritime Academy.\n"
     ]
    }
   ],
   "source": [
    "print(\"The outlier institution is \" +ca_pub_mobility.sort(\"kq5_cond_parq1\", descending = True).column(\"name\").item(0)+\".\")"
   ]
  },
  {
   "cell_type": "markdown",
   "metadata": {},
   "source": [
    "** 1.8 ** Let's compute the same summary statistics for `success`: the mean, standard deviation, and the same percentile values."
   ]
  },
  {
   "cell_type": "code",
   "execution_count": 75,
   "metadata": {},
   "outputs": [
    {
     "name": "stdout",
     "output_type": "stream",
     "text": [
      "The mean of success is 22.891854498.\n",
      "The standard deviation of success is 13.9731712265.\n",
      "The 25th percentile of success is 13.78117925.\n",
      "The 50th percentile/median of success is 17.100701.\n",
      "The 75th percentile of success is 30.26187775.\n"
     ]
    }
   ],
   "source": [
    "print(\"The mean of success is \"+str(np.mean(ca_pub_mobility.column(\"kq5_cond_parq1\")))+\".\")\n",
    "print(\"The standard deviation of success is \"+str(np.std(ca_pub_mobility.column(\"kq5_cond_parq1\")))+\".\")\n",
    "print(\"The 25th percentile of success is \"+str(np.percentile(ca_pub_mobility.column(\"kq5_cond_parq1\"),25))+\".\")\n",
    "print(\"The 50th percentile/median of success is \"+str(np.percentile(ca_pub_mobility.column(\"kq5_cond_parq1\"),50))+\".\")\n",
    "print(\"The 75th percentile of success is \"+str(np.percentile(ca_pub_mobility.column(\"kq5_cond_parq1\"),75))+\".\")"
   ]
  },
  {
   "cell_type": "markdown",
   "metadata": {},
   "source": [
    "**1.9** Which factor is more important for ranking institutions by mobility: `access` or `success`? One way to answer this is to see which factor *varies* more acorss institutions. If all institutions have similar `success` rates, but dramatically different levels of `access`, than `access` would be a more important factor for ranking institutions.\n",
    "\n",
    "**Problem:** They are on different scales. \n",
    "\n",
    "**Solution:** There are *relative* measures of variability that account for the fact that the two variables have different means, such as the **coefficient of variation**.\n",
    "\n",
    "This is defined as the ratio of the standard deviation to the mean: \n",
    "\n",
    "$$ C_v = \\frac{\\sigma}{\\mu} $$\n",
    "\n",
    "or the sample equivalent: \n",
    "\n",
    "$$ C_v = \\frac{s_v}{\\bar x} $$\n",
    "\n",
    "Let’s create a *function* called `coef_var` that computes the coefficient of variation for a sample of data.\n",
    "\n",
    "It should take in an array of values. You can get this by using Table.column('name')."
   ]
  },
  {
   "cell_type": "code",
   "execution_count": 76,
   "metadata": {},
   "outputs": [],
   "source": [
    "# write your function below\n",
    "def coef_var(arr):\n",
    "    return np.std(arr)/np.mean(arr)"
   ]
  },
  {
   "cell_type": "markdown",
   "metadata": {},
   "source": [
    "** 1.10 ** Compare the coefficient of variation for `access` and `success`. What do you conclude?"
   ]
  },
  {
   "cell_type": "code",
   "execution_count": 77,
   "metadata": {},
   "outputs": [
    {
     "name": "stdout",
     "output_type": "stream",
     "text": [
      "The coefficient of variability for access is 0.437571018561.\n",
      "The coefficient of variability for success is 0.610399267903.\n"
     ]
    }
   ],
   "source": [
    "coef_var_access = coef_var(ca_pub_mobility.column(\"par_q1\"))\n",
    "coef_var_success = coef_var(ca_pub_mobility.column(\"kq5_cond_parq1\"))\n",
    "\n",
    "print(\"The coefficient of variability for access is \"+str(coef_var_access)+\".\")\n",
    "print(\"The coefficient of variability for success is \"+str(coef_var_success)+\".\")"
   ]
  },
  {
   "cell_type": "raw",
   "metadata": {},
   "source": [
    "#which is more variable?\n",
    "\n",
    "The coefficient of variability for success is more variable."
   ]
  },
  {
   "cell_type": "markdown",
   "metadata": {},
   "source": [
    "** 1.11** Let's examine the relationship between `access` and `success`. Create a scatterplot with `access` on the horizontal axis and `success` on the vertical access."
   ]
  },
  {
   "cell_type": "code",
   "execution_count": 78,
   "metadata": {},
   "outputs": [
    {
     "data": {
      "text/plain": [
       "<matplotlib.text.Text at 0x7f57eb02da90>"
      ]
     },
     "execution_count": 78,
     "metadata": {},
     "output_type": "execute_result"
    },
    {
     "data": {
      "image/png": "[encoded data removed]",
      "text/plain": [
       "<matplotlib.figure.Figure at 0x7f57ea3eb390>"
      ]
     },
     "metadata": {},
     "output_type": "display_data"
    }
   ],
   "source": [
    "#create scatter plot\n",
    "\n",
    "plt.scatter(ca_pub_mobility.column(\"par_q1\"),ca_pub_mobility.column(\"kq5_cond_parq1\"))\n",
    "\n",
    "#the code below will label the axes and title of your scatter plot\n",
    "plt.title('Access versus Success at Calfornia Public Institutions')\n",
    "plt.xlabel('Share of Parents in Bottom Quintile')\n",
    "plt.ylabel('100 * P(Child in Q5 | Parent in Q1)')"
   ]
  },
  {
   "cell_type": "markdown",
   "metadata": {},
   "source": [
    "**1.12** Describe the relationship between `access` and `success`."
   ]
  },
  {
   "cell_type": "raw",
   "metadata": {},
   "source": [
    "The success rate of a child at a California Public Institution is greater for a lower percent of parents in the Bottom Quintile. Access and success are inversly related."
   ]
  },
  {
   "cell_type": "markdown",
   "metadata": {},
   "source": [
    "Interestingly, despite the clear relationship between `access` and `success` you've noted above, there is still a lot of variation in `access` among institutions with similar `success` rates. You can see that from this figure from the paper (which includes all US colleges and universities, not just public Calfornia schools):\n",
    "\n",
    "<img src=\"success_cond_var.png\" alt=\"Drawing\" style=\"width: 600px;\"/>\n",
    "\n",
    "This suggests an interesting policy question: how are institutions producing students of similar 'quality' (as measured by earnings) yet providing very different levels of access? What can be learned from the more accessible colleges and universities?"
   ]
  },
  {
   "cell_type": "markdown",
   "metadata": {},
   "source": [
    "### Mobility Rates"
   ]
  },
  {
   "cell_type": "markdown",
   "metadata": {},
   "source": [
    "Finally, let's investigate `mobility` across institutions.\n",
    "\n",
    "** 1.13** Recall that for each school, upward mobility is the product of access and  success rates. Let's confirm this in the data by creating our own mobility measure and comparing it to the `mobility` column in the data."
   ]
  },
  {
   "cell_type": "code",
   "execution_count": 79,
   "metadata": {},
   "outputs": [],
   "source": [
    "ca_pub_mobility = ca_pub_mobility.with_columns(\"mobility\",np.multiply(ca_pub_mobility.column(\"par_q1\"),ca_pub_mobility.column(\"kq5_cond_parq1\")))"
   ]
  },
  {
   "cell_type": "markdown",
   "metadata": {},
   "source": [
    "** 1.14** Now let's look at the distribution of upward mobility across institutions. "
   ]
  },
  {
   "cell_type": "code",
   "execution_count": 80,
   "metadata": {},
   "outputs": [
    {
     "data": {
      "text/plain": [
       "<matplotlib.text.Text at 0x7f57eb013ba8>"
      ]
     },
     "execution_count": 80,
     "metadata": {},
     "output_type": "execute_result"
    },
    {
     "data": {
      "image/png": "[encoded data removed]",
      "text/plain": [
       "<matplotlib.figure.Figure at 0x7f57ea2c7080>"
      ]
     },
     "metadata": {},
     "output_type": "display_data"
    }
   ],
   "source": [
    "#create histogram of access column (named mr_kq5_pq1)\n",
    "ca_pub_mobility.hist(\"mr_kq5_pq1\")\n",
    "#the code below will label the axes and title of your histogram\n",
    "plt.title('Distribution of \"Mobility\" at Calfornia Public Institutions')\n",
    "plt.xlabel('\"Mobility\"')"
   ]
  },
  {
   "cell_type": "markdown",
   "metadata": {},
   "source": [
    "**1.15 ** You should see another outlier. What institution is that?"
   ]
  },
  {
   "cell_type": "code",
   "execution_count": 81,
   "metadata": {},
   "outputs": [
    {
     "name": "stdout",
     "output_type": "stream",
     "text": [
      "The outlier institution is California State University, Los Angeles.\n"
     ]
    }
   ],
   "source": [
    "print(\"The outlier institution is \" +ca_pub_mobility.sort(\"mr_kq5_pq1\", descending = True).column(\"name\").item(0)+\".\")"
   ]
  },
  {
   "cell_type": "markdown",
   "metadata": {},
   "source": [
    "This institution has a relatively high `success` rate, and one of the largest levels of `access`.\n",
    "\n",
    "** 1.16 ** Let's compute the same summary statistics for `mobility`: the mean, standard deviation, and the same percentile values."
   ]
  },
  {
   "cell_type": "code",
   "execution_count": 82,
   "metadata": {},
   "outputs": [
    {
     "name": "stdout",
     "output_type": "stream",
     "text": [
      "The mean of mobility is 3.0058129031.\n",
      "The standard deviation of mobility is 1.57570076096.\n",
      "The 25th percentile of mobility is 1.814370075.\n",
      "The 50th percentile/median of mobility is 2.54024975.\n",
      "The 75th percentile of mobility is 3.71012755.\n"
     ]
    }
   ],
   "source": [
    "print(\"The mean of mobility is \"+str(np.mean(ca_pub_mobility.column(\"mr_kq5_pq1\")))+\".\")\n",
    "print(\"The standard deviation of mobility is \"+str(np.std(ca_pub_mobility.column(\"mr_kq5_pq1\")))+\".\")\n",
    "print(\"The 25th percentile of mobility is \"+str(np.percentile(ca_pub_mobility.column(\"mr_kq5_pq1\"),25))+\".\")\n",
    "print(\"The 50th percentile/median of mobility is \"+str(np.percentile(ca_pub_mobility.column(\"mr_kq5_pq1\"),50))+\".\")\n",
    "print(\"The 75th percentile of mobility is \"+str(np.percentile(ca_pub_mobility.column(\"mr_kq5_pq1\"),75))+\".\")"
   ]
  },
  {
   "cell_type": "markdown",
   "metadata": {},
   "source": [
    "**1.17** Let's examine the values of `access`, `success`, and `mobility` for Berkeley. How would you say they compare to other California public institutions? For example, between what quantiles does Berkeley rank on each measure?"
   ]
  },
  {
   "cell_type": "code",
   "execution_count": 83,
   "metadata": {},
   "outputs": [
    {
     "data": {
      "text/html": [
       "<table border=\"1\" class=\"dataframe\">\n",
       "    <thead>\n",
       "        <tr>\n",
       "            <th>super_opeid</th> <th>name</th> <th>type</th> <th>tier</th> <th>iclevel</th> <th>state</th> <th>count</th> <th>mr_kq5_pq1</th> <th>par_mean</th> <th>par_median</th> <th>par_rank</th> <th>par_q1</th> <th>par_q2</th> <th>par_q3</th> <th>par_q4</th> <th>par_q5</th> <th>kq5_cond_parq1</th> <th>kq5_cond_parq2</th> <th>kq5_cond_parq3</th> <th>kq5_cond_parq4</th> <th>kq5_cond_parq5</th> <th>mobility</th>\n",
       "        </tr>\n",
       "    </thead>\n",
       "    <tbody>\n",
       "        <tr>\n",
       "            <td>1312       </td> <td>University Of California, Berkeley</td> <td>Public</td> <td>Highly selective public</td> <td>Four-year</td> <td>CA   </td> <td>4624.33</td> <td>4.8851    </td> <td>194452  </td> <td>114700    </td> <td>0.698319</td> <td>8.84234</td> <td>10.614</td> <td>12.8856</td> <td>16.3082</td> <td>51.3498</td> <td>55.2467       </td> <td>56.9978       </td> <td>58.3739       </td> <td>58.4709       </td> <td>62.0903       </td> <td>488.51  </td>\n",
       "        </tr>\n",
       "    </tbody>\n",
       "</table>"
      ],
      "text/plain": [
       "super_opeid | name                               | type   | tier                    | iclevel   | state | count   | mr_kq5_pq1 | par_mean | par_median | par_rank | par_q1  | par_q2 | par_q3  | par_q4  | par_q5  | kq5_cond_parq1 | kq5_cond_parq2 | kq5_cond_parq3 | kq5_cond_parq4 | kq5_cond_parq5 | mobility\n",
       "1312        | University Of California, Berkeley | Public | Highly selective public | Four-year | CA    | 4624.33 | 4.8851     | 194452   | 114700     | 0.698319 | 8.84234 | 10.614 | 12.8856 | 16.3082 | 51.3498 | 55.2467        | 56.9978        | 58.3739        | 58.4709        | 62.0903        | 488.51"
      ]
     },
     "execution_count": 83,
     "metadata": {},
     "output_type": "execute_result"
    }
   ],
   "source": [
    "ca_pub_mobility.where('name', are.equal_to('University Of California, Berkeley'))"
   ]
  },
  {
   "cell_type": "raw",
   "metadata": {},
   "source": [
    "#How does Berkeley compare?\n",
    "\n",
    "UC Berkeley's mobility is 4.8851.\n",
    "UC Berkeley's mean access is ."
   ]
  },
  {
   "cell_type": "markdown",
   "metadata": {},
   "source": [
    "## 2. Creating a College Report Card\n",
    "\n",
    "<img src=\"berkeley_mrc.png\">\n",
    "\n",
    "The main output of the Chetty et al. (2017) project is a Mobility Report Card for each school included in their data. The Report Card shows the composition of an institution's students by parental income quintile, and success rates by parental income quintile. Report Cards for each institution can be found [here](https://sites.google.com/site/dannyyagan/college).\n",
    "\n",
    "Above, you can see the Report Card for UC Berkeley. The figure includes a bar chart for the distribution of students by parental income quintile, and a line plot the show success rates by parental income quintile. The figure is effective--it presents a lot of information without too much clutter.\n",
    "\n",
    "In this section we will create a function that generates a Report Card comparing two institutions.\n",
    "\n",
    "**2.1** For this exercise, it will be easier to work with the data in a different format. Again, we will restrict to public California colleges and universities."
   ]
  },
  {
   "cell_type": "code",
   "execution_count": 84,
   "metadata": {},
   "outputs": [
    {
     "data": {
      "text/html": [
       "<table border=\"1\" class=\"dataframe\">\n",
       "    <thead>\n",
       "        <tr>\n",
       "            <th>super_opeid</th> <th>name</th> <th>type</th> <th>tier</th> <th>iclevel</th> <th>state</th> <th>parq</th> <th>share</th> <th>kq5_cond_parq</th>\n",
       "        </tr>\n",
       "    </thead>\n",
       "    <tbody>\n",
       "        <tr>\n",
       "            <td>1111       </td> <td>Allan Hancock College  </td> <td>Public</td> <td>Two-year (public and private not-for-profit)</td> <td>Two-year</td> <td>CA   </td> <td>1   </td> <td>0.140892</td> <td>0.13815      </td>\n",
       "        </tr>\n",
       "    </tbody>\n",
       "        <tr>\n",
       "            <td>1111       </td> <td>Allan Hancock College  </td> <td>Public</td> <td>Two-year (public and private not-for-profit)</td> <td>Two-year</td> <td>CA   </td> <td>2   </td> <td>0.18906 </td> <td>0.177481     </td>\n",
       "        </tr>\n",
       "    </tbody>\n",
       "        <tr>\n",
       "            <td>1111       </td> <td>Allan Hancock College  </td> <td>Public</td> <td>Two-year (public and private not-for-profit)</td> <td>Two-year</td> <td>CA   </td> <td>3   </td> <td>0.234964</td> <td>0.142748     </td>\n",
       "        </tr>\n",
       "    </tbody>\n",
       "        <tr>\n",
       "            <td>1111       </td> <td>Allan Hancock College  </td> <td>Public</td> <td>Two-year (public and private not-for-profit)</td> <td>Two-year</td> <td>CA   </td> <td>4   </td> <td>0.256879</td> <td>0.22633      </td>\n",
       "        </tr>\n",
       "    </tbody>\n",
       "        <tr>\n",
       "            <td>1111       </td> <td>Allan Hancock College  </td> <td>Public</td> <td>Two-year (public and private not-for-profit)</td> <td>Two-year</td> <td>CA   </td> <td>5   </td> <td>0.178205</td> <td>0.237283     </td>\n",
       "        </tr>\n",
       "    </tbody>\n",
       "        <tr>\n",
       "            <td>1113       </td> <td>Antelope Valley College</td> <td>Public</td> <td>Two-year (public and private not-for-profit)</td> <td>Two-year</td> <td>CA   </td> <td>1   </td> <td>0.164019</td> <td>0.11755      </td>\n",
       "        </tr>\n",
       "    </tbody>\n",
       "        <tr>\n",
       "            <td>1113       </td> <td>Antelope Valley College</td> <td>Public</td> <td>Two-year (public and private not-for-profit)</td> <td>Two-year</td> <td>CA   </td> <td>2   </td> <td>0.174746</td> <td>0.160699     </td>\n",
       "        </tr>\n",
       "    </tbody>\n",
       "        <tr>\n",
       "            <td>1113       </td> <td>Antelope Valley College</td> <td>Public</td> <td>Two-year (public and private not-for-profit)</td> <td>Two-year</td> <td>CA   </td> <td>3   </td> <td>0.219868</td> <td>0.186232     </td>\n",
       "        </tr>\n",
       "    </tbody>\n",
       "        <tr>\n",
       "            <td>1113       </td> <td>Antelope Valley College</td> <td>Public</td> <td>Two-year (public and private not-for-profit)</td> <td>Two-year</td> <td>CA   </td> <td>4   </td> <td>0.262804</td> <td>0.239308     </td>\n",
       "        </tr>\n",
       "    </tbody>\n",
       "        <tr>\n",
       "            <td>1113       </td> <td>Antelope Valley College</td> <td>Public</td> <td>Two-year (public and private not-for-profit)</td> <td>Two-year</td> <td>CA   </td> <td>5   </td> <td>0.178563</td> <td>0.241404     </td>\n",
       "        </tr>\n",
       "    </tbody>\n",
       "</table>\n",
       "<p>... (490 rows omitted)</p"
      ],
      "text/plain": [
       "super_opeid | name                    | type   | tier                                         | iclevel  | state | parq | share    | kq5_cond_parq\n",
       "1111        | Allan Hancock College   | Public | Two-year (public and private not-for-profit) | Two-year | CA    | 1    | 0.140892 | 0.13815\n",
       "1111        | Allan Hancock College   | Public | Two-year (public and private not-for-profit) | Two-year | CA    | 2    | 0.18906  | 0.177481\n",
       "1111        | Allan Hancock College   | Public | Two-year (public and private not-for-profit) | Two-year | CA    | 3    | 0.234964 | 0.142748\n",
       "1111        | Allan Hancock College   | Public | Two-year (public and private not-for-profit) | Two-year | CA    | 4    | 0.256879 | 0.22633\n",
       "1111        | Allan Hancock College   | Public | Two-year (public and private not-for-profit) | Two-year | CA    | 5    | 0.178205 | 0.237283\n",
       "1113        | Antelope Valley College | Public | Two-year (public and private not-for-profit) | Two-year | CA    | 1    | 0.164019 | 0.11755\n",
       "1113        | Antelope Valley College | Public | Two-year (public and private not-for-profit) | Two-year | CA    | 2    | 0.174746 | 0.160699\n",
       "1113        | Antelope Valley College | Public | Two-year (public and private not-for-profit) | Two-year | CA    | 3    | 0.219868 | 0.186232\n",
       "1113        | Antelope Valley College | Public | Two-year (public and private not-for-profit) | Two-year | CA    | 4    | 0.262804 | 0.239308\n",
       "1113        | Antelope Valley College | Public | Two-year (public and private not-for-profit) | Two-year | CA    | 5    | 0.178563 | 0.241404\n",
       "... (490 rows omitted)"
      ]
     },
     "execution_count": 84,
     "metadata": {},
     "output_type": "execute_result"
    }
   ],
   "source": [
    "#read in data\n",
    "mobility_long = Table.read_table(\"mrc_table2_long.csv\")\n",
    "\n",
    "#restrict to CA public institutions again\n",
    "ca_pub_mobility_long = mobility_long.where('type', are.equal_to('Public')).where('state', are.equal_to('CA'))\n",
    "\n",
    "ca_pub_mobility_long\n"
   ]
  },
  {
   "cell_type": "markdown",
   "metadata": {},
   "source": [
    "Notice that now there are *5* observations per institution. While each row represented an institution in the first table, in this table each row represents an institution by parental income quintile *pair*. The latter is denoted by the column `parq`. \n",
    "\n",
    "(What we have done is transformed the data from *wide* to *long* format. The details of this are beyond the scope of this lab, but you can think of it as the opposite of the `pivot` function introduced in Data 8.)\n",
    "\n",
    "There are two other columns that require explanation:\n",
    "\n",
    "- **`share`**: this is the share of students at the institution with parental income in the quintile indicated by `parq`. Across the 5 rows for each institution, these values will sum to 1.\n",
    "\n",
    "- **`kq5_cond_parq`**: this is the 'success rate' for students from a particular institution and parental income quintile. In other words, it is the share of students that reach the top quintile of the children's income distribution.\n",
    "\n",
    "As above, let's rescale `share` and `kq5_cond_parq` to express them as percentages rather than shares.\n"
   ]
  },
  {
   "cell_type": "code",
   "execution_count": 85,
   "metadata": {},
   "outputs": [
    {
     "data": {
      "text/html": [
       "<table border=\"1\" class=\"dataframe\">\n",
       "    <thead>\n",
       "        <tr>\n",
       "            <th>super_opeid</th> <th>name</th> <th>type</th> <th>tier</th> <th>iclevel</th> <th>state</th> <th>parq</th> <th>share</th> <th>kq5_cond_parq</th> <th>percent</th>\n",
       "        </tr>\n",
       "    </thead>\n",
       "    <tbody>\n",
       "        <tr>\n",
       "            <td>1111       </td> <td>Allan Hancock College  </td> <td>Public</td> <td>Two-year (public and private not-for-profit)</td> <td>Two-year</td> <td>CA   </td> <td>1   </td> <td>0.140892</td> <td>13.815       </td> <td>14.0892</td>\n",
       "        </tr>\n",
       "    </tbody>\n",
       "        <tr>\n",
       "            <td>1111       </td> <td>Allan Hancock College  </td> <td>Public</td> <td>Two-year (public and private not-for-profit)</td> <td>Two-year</td> <td>CA   </td> <td>2   </td> <td>0.18906 </td> <td>17.7481      </td> <td>18.906 </td>\n",
       "        </tr>\n",
       "    </tbody>\n",
       "        <tr>\n",
       "            <td>1111       </td> <td>Allan Hancock College  </td> <td>Public</td> <td>Two-year (public and private not-for-profit)</td> <td>Two-year</td> <td>CA   </td> <td>3   </td> <td>0.234964</td> <td>14.2748      </td> <td>23.4964</td>\n",
       "        </tr>\n",
       "    </tbody>\n",
       "        <tr>\n",
       "            <td>1111       </td> <td>Allan Hancock College  </td> <td>Public</td> <td>Two-year (public and private not-for-profit)</td> <td>Two-year</td> <td>CA   </td> <td>4   </td> <td>0.256879</td> <td>22.633       </td> <td>25.6879</td>\n",
       "        </tr>\n",
       "    </tbody>\n",
       "        <tr>\n",
       "            <td>1111       </td> <td>Allan Hancock College  </td> <td>Public</td> <td>Two-year (public and private not-for-profit)</td> <td>Two-year</td> <td>CA   </td> <td>5   </td> <td>0.178205</td> <td>23.7283      </td> <td>17.8205</td>\n",
       "        </tr>\n",
       "    </tbody>\n",
       "        <tr>\n",
       "            <td>1113       </td> <td>Antelope Valley College</td> <td>Public</td> <td>Two-year (public and private not-for-profit)</td> <td>Two-year</td> <td>CA   </td> <td>1   </td> <td>0.164019</td> <td>11.755       </td> <td>16.4019</td>\n",
       "        </tr>\n",
       "    </tbody>\n",
       "        <tr>\n",
       "            <td>1113       </td> <td>Antelope Valley College</td> <td>Public</td> <td>Two-year (public and private not-for-profit)</td> <td>Two-year</td> <td>CA   </td> <td>2   </td> <td>0.174746</td> <td>16.0699      </td> <td>17.4746</td>\n",
       "        </tr>\n",
       "    </tbody>\n",
       "        <tr>\n",
       "            <td>1113       </td> <td>Antelope Valley College</td> <td>Public</td> <td>Two-year (public and private not-for-profit)</td> <td>Two-year</td> <td>CA   </td> <td>3   </td> <td>0.219868</td> <td>18.6232      </td> <td>21.9868</td>\n",
       "        </tr>\n",
       "    </tbody>\n",
       "        <tr>\n",
       "            <td>1113       </td> <td>Antelope Valley College</td> <td>Public</td> <td>Two-year (public and private not-for-profit)</td> <td>Two-year</td> <td>CA   </td> <td>4   </td> <td>0.262804</td> <td>23.9308      </td> <td>26.2804</td>\n",
       "        </tr>\n",
       "    </tbody>\n",
       "        <tr>\n",
       "            <td>1113       </td> <td>Antelope Valley College</td> <td>Public</td> <td>Two-year (public and private not-for-profit)</td> <td>Two-year</td> <td>CA   </td> <td>5   </td> <td>0.178563</td> <td>24.1404      </td> <td>17.8563</td>\n",
       "        </tr>\n",
       "    </tbody>\n",
       "</table>\n",
       "<p>... (490 rows omitted)</p"
      ],
      "text/plain": [
       "super_opeid | name                    | type   | tier                                         | iclevel  | state | parq | share    | kq5_cond_parq | percent\n",
       "1111        | Allan Hancock College   | Public | Two-year (public and private not-for-profit) | Two-year | CA    | 1    | 0.140892 | 13.815        | 14.0892\n",
       "1111        | Allan Hancock College   | Public | Two-year (public and private not-for-profit) | Two-year | CA    | 2    | 0.18906  | 17.7481       | 18.906\n",
       "1111        | Allan Hancock College   | Public | Two-year (public and private not-for-profit) | Two-year | CA    | 3    | 0.234964 | 14.2748       | 23.4964\n",
       "1111        | Allan Hancock College   | Public | Two-year (public and private not-for-profit) | Two-year | CA    | 4    | 0.256879 | 22.633        | 25.6879\n",
       "1111        | Allan Hancock College   | Public | Two-year (public and private not-for-profit) | Two-year | CA    | 5    | 0.178205 | 23.7283       | 17.8205\n",
       "1113        | Antelope Valley College | Public | Two-year (public and private not-for-profit) | Two-year | CA    | 1    | 0.164019 | 11.755        | 16.4019\n",
       "1113        | Antelope Valley College | Public | Two-year (public and private not-for-profit) | Two-year | CA    | 2    | 0.174746 | 16.0699       | 17.4746\n",
       "1113        | Antelope Valley College | Public | Two-year (public and private not-for-profit) | Two-year | CA    | 3    | 0.219868 | 18.6232       | 21.9868\n",
       "1113        | Antelope Valley College | Public | Two-year (public and private not-for-profit) | Two-year | CA    | 4    | 0.262804 | 23.9308       | 26.2804\n",
       "1113        | Antelope Valley College | Public | Two-year (public and private not-for-profit) | Two-year | CA    | 5    | 0.178563 | 24.1404       | 17.8563\n",
       "... (490 rows omitted)"
      ]
     },
     "execution_count": 85,
     "metadata": {},
     "output_type": "execute_result"
    }
   ],
   "source": [
    "#rescale share and kq5_cond_parq\n",
    "\n",
    "#only run this once!\n",
    "ca_pub_mobility_long = ca_pub_mobility_long.with_columns(\n",
    "    'percent', ca_pub_mobility_long.column('share')*100,\n",
    "    'kq5_cond_parq', ca_pub_mobility_long.column('kq5_cond_parq')*100\n",
    ")\n",
    "\n",
    "ca_pub_mobility_long\n"
   ]
  },
  {
   "cell_type": "markdown",
   "metadata": {},
   "source": [
    "**2.2** First, create the bar chart portion of the Report Card for UC Berkeley.\n"
   ]
  },
  {
   "cell_type": "code",
   "execution_count": 86,
   "metadata": {},
   "outputs": [
    {
     "data": {
      "image/png": "[encoded data removed]",
      "text/plain": [
       "<matplotlib.figure.Figure at 0x7f57eb4d4b00>"
      ]
     },
     "metadata": {},
     "output_type": "display_data"
    }
   ],
   "source": [
    "#create table with just Berkeley data\n",
    "berkeley_mobility_long = ca_pub_mobility_long.where('name', are.equal_to('University Of California, Berkeley'))\n",
    "\n",
    "#create bar chart\n",
    "bar_width = 0.3 \n",
    "plt.bar(berkeley_mobility_long.column('parq') + bar_width/2 + .05, berkeley_mobility_long.column('percent'), bar_width, label = 'University Of California, Berkeley')\n",
    "plt.legend()\n",
    "\n",
    "plt.show()"
   ]
  },
  {
   "cell_type": "markdown",
   "metadata": {},
   "source": [
    "**2.3** Next, create the line plot portion."
   ]
  },
  {
   "cell_type": "code",
   "execution_count": 87,
   "metadata": {},
   "outputs": [
    {
     "data": {
      "text/plain": [
       "[<matplotlib.lines.Line2D at 0x7f57ea1f99e8>]"
      ]
     },
     "execution_count": 87,
     "metadata": {},
     "output_type": "execute_result"
    },
    {
     "data": {
      "image/png": "[encoded data removed]",
      "text/plain": [
       "<matplotlib.figure.Figure at 0x7f57ea2d4588>"
      ]
     },
     "metadata": {},
     "output_type": "display_data"
    }
   ],
   "source": [
    "#create line plot\n",
    "plt.plot(berkeley_mobility_long.column('parq'), berkeley_mobility_long.column('kq5_cond_parq'), marker='o')\n"
   ]
  },
  {
   "cell_type": "markdown",
   "metadata": {},
   "source": [
    "Notice the difference in vertical scales for the two figures.\n",
    "\n",
    "**2.4** Let's put the last two pieces together in one figure as in the offical Report Cards."
   ]
  },
  {
   "cell_type": "code",
   "execution_count": 88,
   "metadata": {},
   "outputs": [
    {
     "data": {
      "image/png": "[encoded data removed]",
      "text/plain": [
       "<matplotlib.figure.Figure at 0x7f57ea4f85f8>"
      ]
     },
     "metadata": {},
     "output_type": "display_data"
    }
   ],
   "source": [
    "#copy and paste your code from previous two cells\n",
    "plt.bar(berkeley_mobility_long.column('parq') + bar_width/2 + .05, berkeley_mobility_long.column('percent'), bar_width, label = 'University Of California, Berkeley')\n",
    "plt.plot(berkeley_mobility_long.column('parq'), berkeley_mobility_long.column('kq5_cond_parq'), marker='o')\n",
    "#include this last line\n",
    "plt.show()"
   ]
  },
  {
   "cell_type": "markdown",
   "metadata": {},
   "source": [
    "We're almost there! We just need to combine the data from two institutions in one plot. The code below generates a Report Card that compares UC Berkeley and UC Davis. "
   ]
  },
  {
   "cell_type": "code",
   "execution_count": 89,
   "metadata": {},
   "outputs": [
    {
     "data": {
      "image/png": "[encoded data removed]",
      "text/plain": [
       "<matplotlib.figure.Figure at 0x7f57ea09f128>"
      ]
     },
     "metadata": {},
     "output_type": "display_data"
    }
   ],
   "source": [
    "#create report card that compares two institutions\n",
    "bar_width = 0.3  # default: 0.8\n",
    "\n",
    "school1 = ca_pub_mobility_long.where('name', are.equal_to('University Of California, Berkeley'))\n",
    "school2 = ca_pub_mobility_long.where('name', are.equal_to('University Of California, Davis'))\n",
    "\n",
    "#create the bar charts\n",
    "plt.bar(school1.column('parq') + bar_width/2 + .05, school1.column('percent'), bar_width, label = 'University Of California, Berkeley')\n",
    "plt.bar(school2.column('parq') - bar_width/2 - .05, school2.column('percent'), bar_width, label = 'University Of California, Davis')\n",
    "\n",
    "#create the line plots\n",
    "plt.plot(school1.column('parq'), school1.column('kq5_cond_parq'), marker='o')\n",
    "plt.plot(school2.column('parq'), school2.column('kq5_cond_parq'), marker='o')\n",
    "\n",
    "plt.legend()\n",
    "\n",
    "plt.show()"
   ]
  },
  {
   "cell_type": "markdown",
   "metadata": {},
   "source": [
    "**2.5** Create a function that takes two institution names as arguments and returns a Report Card that compares the two."
   ]
  },
  {
   "cell_type": "code",
   "execution_count": 90,
   "metadata": {},
   "outputs": [],
   "source": [
    "#turn into function\n",
    "#hint: you should first copy the code from the cell above and then make some minor changes so that 'UC Berkeley' and 'UC Davis' are replaced by the names for the function arguments.\n",
    "\n",
    "def report_card(a, b):\n",
    "    bar_width = 0.3  # default: 0.8\n",
    "\n",
    "    school1 = ca_pub_mobility_long.where('name', are.equal_to(a))\n",
    "    school2 = ca_pub_mobility_long.where('name', are.equal_to(b))\n",
    "\n",
    "    #create the bar charts\n",
    "    plt.bar(school1.column('parq') + bar_width/2 + .05, school1.column('percent'), bar_width, label = a)\n",
    "    plt.bar(school2.column('parq') - bar_width/2 - .05, school2.column('percent'), bar_width, label = b)\n",
    "    #create the line plots\n",
    "    plt.plot(school1.column('parq'), school1.column('kq5_cond_parq'), marker='o')\n",
    "    plt.plot(school2.column('parq'), school2.column('kq5_cond_parq'), marker='o')\n",
    "\n",
    "    plt.legend()\n",
    "    return plt.show()"
   ]
  },
  {
   "cell_type": "code",
   "execution_count": 91,
   "metadata": {},
   "outputs": [
    {
     "data": {
      "image/png": "[encoded data removed]",
      "text/plain": [
       "<matplotlib.figure.Figure at 0x7f57eb9f4c88>"
      ]
     },
     "metadata": {},
     "output_type": "display_data"
    }
   ],
   "source": [
    "report_card('University Of California, Berkeley', 'University Of California, Berkeley')"
   ]
  },
  {
   "cell_type": "markdown",
   "metadata": {},
   "source": [
    "**2.6** Generate a report card using two institutions of your choosing. Describe the comparison."
   ]
  },
  {
   "cell_type": "code",
   "execution_count": 92,
   "metadata": {},
   "outputs": [
    {
     "data": {
      "image/png": "[encoded data removed]",
      "text/plain": [
       "<matplotlib.figure.Figure at 0x7f57ea123b00>"
      ]
     },
     "metadata": {},
     "output_type": "display_data"
    }
   ],
   "source": [
    "report_card('University Of California, Berkeley', 'University Of California, Los Angeles')"
   ]
  },
  {
   "cell_type": "raw",
   "metadata": {},
   "source": [
    "#describe the comparison here\n",
    "\n"
   ]
  },
  {
   "cell_type": "markdown",
   "metadata": {},
   "source": [
    "## 3. How Does Access Vary Over Time?\n",
    "Next, we’ll look at how low income access to California public institutions has changed over time. Over the last 40 years, public spending on higher education in Calfornia has changed dramatically, as demonstrated by the figure below.\n",
    "\n",
    "<img src = http://www.ppic.org/content/images/InstCosts_Fig1.png, title = 'higher education funding in California'>\n",
    "\n",
    "**UC :** University of California, \n",
    "<br>\n",
    "**CSU :** California State University\n",
    "\n",
    "Here's a relevant DailyCal article that outlines how funding has changed over the years\n",
    "http://www.dailycal.org/2014/12/22/history-uc-tuition-since-1868/\n",
    "<br>\n",
    "\n",
    "** 3.1 ** Let's load and examine the longitudinal data and the specific columns we'll use in this section."
   ]
  },
  {
   "cell_type": "code",
   "execution_count": 93,
   "metadata": {},
   "outputs": [
    {
     "data": {
      "text/html": [
       "<table border=\"1\" class=\"dataframe\">\n",
       "    <thead>\n",
       "        <tr>\n",
       "            <th>super_opeid</th> <th>cohort</th> <th>name</th> <th>type</th> <th>tier</th> <th>iclevel</th> <th>state</th> <th>count</th> <th>mr_kq5_pq1</th> <th>par_mean</th> <th>par_median</th> <th>par_rank</th> <th>par_q1</th> <th>par_q2</th> <th>par_q3</th> <th>par_q4</th> <th>par_q5</th> <th>kq5_cond_parq1</th> <th>kq5_cond_parq2</th> <th>kq5_cond_parq3</th> <th>kq5_cond_parq4</th> <th>kq5_cond_parq5</th>\n",
       "        </tr>\n",
       "    </thead>\n",
       "    <tbody>\n",
       "        <tr>\n",
       "            <td>1111       </td> <td>1980  </td> <td>Allan Hancock College</td> <td>Public</td> <td>Two-year (public and private not-for-profit)</td> <td>Two-year</td> <td>CA   </td> <td>nan  </td> <td>nan       </td> <td>nan     </td> <td>nan       </td> <td>nan     </td> <td>nan    </td> <td>nan    </td> <td>nan    </td> <td>nan    </td> <td>nan    </td> <td>nan           </td> <td>nan           </td> <td>nan           </td> <td>nan           </td> <td>nan           </td>\n",
       "        </tr>\n",
       "    </tbody>\n",
       "        <tr>\n",
       "            <td>1111       </td> <td>1981  </td> <td>Allan Hancock College</td> <td>Public</td> <td>Two-year (public and private not-for-profit)</td> <td>Two-year</td> <td>CA   </td> <td>nan  </td> <td>nan       </td> <td>nan     </td> <td>nan       </td> <td>nan     </td> <td>nan    </td> <td>nan    </td> <td>nan    </td> <td>nan    </td> <td>nan    </td> <td>nan           </td> <td>nan           </td> <td>nan           </td> <td>nan           </td> <td>nan           </td>\n",
       "        </tr>\n",
       "    </tbody>\n",
       "        <tr>\n",
       "            <td>1111       </td> <td>1982  </td> <td>Allan Hancock College</td> <td>Public</td> <td>Two-year (public and private not-for-profit)</td> <td>Two-year</td> <td>CA   </td> <td>nan  </td> <td>nan       </td> <td>nan     </td> <td>nan       </td> <td>nan     </td> <td>nan    </td> <td>nan    </td> <td>nan    </td> <td>nan    </td> <td>nan    </td> <td>nan           </td> <td>nan           </td> <td>nan           </td> <td>nan           </td> <td>nan           </td>\n",
       "        </tr>\n",
       "    </tbody>\n",
       "        <tr>\n",
       "            <td>1111       </td> <td>1983  </td> <td>Allan Hancock College</td> <td>Public</td> <td>Two-year (public and private not-for-profit)</td> <td>Two-year</td> <td>CA   </td> <td>966  </td> <td>1.78234   </td> <td>77804.8 </td> <td>67800     </td> <td>0.527373</td> <td>13.7447</td> <td>17.8704</td> <td>24.799 </td> <td>27.4024</td> <td>16.1835</td> <td>12.9675       </td> <td>18.1321       </td> <td>14.696        </td> <td>21.4083       </td> <td>23.461        </td>\n",
       "        </tr>\n",
       "    </tbody>\n",
       "        <tr>\n",
       "            <td>1111       </td> <td>1984  </td> <td>Allan Hancock College</td> <td>Public</td> <td>Two-year (public and private not-for-profit)</td> <td>Two-year</td> <td>CA   </td> <td>1474 </td> <td>1.89623   </td> <td>75454   </td> <td>61400     </td> <td>0.519591</td> <td>15.3933</td> <td>19.684 </td> <td>22.6067</td> <td>23.7523</td> <td>18.5638</td> <td>12.3185       </td> <td>15.9423       </td> <td>12.4804       </td> <td>23.3621       </td> <td>25.0311       </td>\n",
       "        </tr>\n",
       "    </tbody>\n",
       "        <tr>\n",
       "            <td>1111       </td> <td>1985  </td> <td>Allan Hancock College</td> <td>Public</td> <td>Two-year (public and private not-for-profit)</td> <td>Two-year</td> <td>CA   </td> <td>1629 </td> <td>1.90142   </td> <td>75189.6 </td> <td>60400     </td> <td>0.521952</td> <td>14.504 </td> <td>20.8406</td> <td>23.6831</td> <td>21.8798</td> <td>19.0925</td> <td>13.1096       </td> <td>11.1495       </td> <td>17.076        </td> <td>21.3161       </td> <td>28.2324       </td>\n",
       "        </tr>\n",
       "    </tbody>\n",
       "        <tr>\n",
       "            <td>1111       </td> <td>1986  </td> <td>Allan Hancock College</td> <td>Public</td> <td>Two-year (public and private not-for-profit)</td> <td>Two-year</td> <td>CA   </td> <td>1501 </td> <td>1.52006   </td> <td>75956.2 </td> <td>62800     </td> <td>0.532623</td> <td>13.6274</td> <td>19.2474</td> <td>24.2328</td> <td>24.6692</td> <td>18.2233</td> <td>11.1545       </td> <td>9.07775       </td> <td>13.3157       </td> <td>20.6837       </td> <td>23.3106       </td>\n",
       "        </tr>\n",
       "    </tbody>\n",
       "        <tr>\n",
       "            <td>1111       </td> <td>1987  </td> <td>Allan Hancock College</td> <td>Public</td> <td>Two-year (public and private not-for-profit)</td> <td>Two-year</td> <td>CA   </td> <td>1739 </td> <td>1.87098   </td> <td>72924.2 </td> <td>58900     </td> <td>0.51635 </td> <td>14.1828</td> <td>21.2632</td> <td>23.0286</td> <td>24.4688</td> <td>17.0566</td> <td>13.192        </td> <td>10.4235       </td> <td>17.3949       </td> <td>18.9186       </td> <td>22.5195       </td>\n",
       "        </tr>\n",
       "    </tbody>\n",
       "        <tr>\n",
       "            <td>1111       </td> <td>1988  </td> <td>Allan Hancock College</td> <td>Public</td> <td>Two-year (public and private not-for-profit)</td> <td>Two-year</td> <td>CA   </td> <td>1918 </td> <td>1.33338   </td> <td>71596.1 </td> <td>58000     </td> <td>0.514305</td> <td>15.1931</td> <td>20.5099</td> <td>22.8872</td> <td>24.312 </td> <td>17.0978</td> <td>8.77618       </td> <td>13.5246       </td> <td>14.7727       </td> <td>18.0635       </td> <td>20.5855       </td>\n",
       "        </tr>\n",
       "    </tbody>\n",
       "        <tr>\n",
       "            <td>1111       </td> <td>1989  </td> <td>Allan Hancock College</td> <td>Public</td> <td>Two-year (public and private not-for-profit)</td> <td>Two-year</td> <td>CA   </td> <td>1998 </td> <td>1.5865    </td> <td>70077.8 </td> <td>56500     </td> <td>0.519966</td> <td>14.9425</td> <td>20.297 </td> <td>24.5215</td> <td>23.4795</td> <td>16.7596</td> <td>10.6174       </td> <td>13.1677       </td> <td>11.0882       </td> <td>16.3471       </td> <td>20.3295       </td>\n",
       "        </tr>\n",
       "    </tbody>\n",
       "</table>\n",
       "<p>... (1766 rows omitted)</p"
      ],
      "text/plain": [
       "super_opeid | cohort | name                  | type   | tier                                         | iclevel  | state | count | mr_kq5_pq1 | par_mean | par_median | par_rank | par_q1  | par_q2  | par_q3  | par_q4  | par_q5  | kq5_cond_parq1 | kq5_cond_parq2 | kq5_cond_parq3 | kq5_cond_parq4 | kq5_cond_parq5\n",
       "1111        | 1980   | Allan Hancock College | Public | Two-year (public and private not-for-profit) | Two-year | CA    | nan   | nan        | nan      | nan        | nan      | nan     | nan     | nan     | nan     | nan     | nan            | nan            | nan            | nan            | nan\n",
       "1111        | 1981   | Allan Hancock College | Public | Two-year (public and private not-for-profit) | Two-year | CA    | nan   | nan        | nan      | nan        | nan      | nan     | nan     | nan     | nan     | nan     | nan            | nan            | nan            | nan            | nan\n",
       "1111        | 1982   | Allan Hancock College | Public | Two-year (public and private not-for-profit) | Two-year | CA    | nan   | nan        | nan      | nan        | nan      | nan     | nan     | nan     | nan     | nan     | nan            | nan            | nan            | nan            | nan\n",
       "1111        | 1983   | Allan Hancock College | Public | Two-year (public and private not-for-profit) | Two-year | CA    | 966   | 1.78234    | 77804.8  | 67800      | 0.527373 | 13.7447 | 17.8704 | 24.799  | 27.4024 | 16.1835 | 12.9675        | 18.1321        | 14.696         | 21.4083        | 23.461\n",
       "1111        | 1984   | Allan Hancock College | Public | Two-year (public and private not-for-profit) | Two-year | CA    | 1474  | 1.89623    | 75454    | 61400      | 0.519591 | 15.3933 | 19.684  | 22.6067 | 23.7523 | 18.5638 | 12.3185        | 15.9423        | 12.4804        | 23.3621        | 25.0311\n",
       "1111        | 1985   | Allan Hancock College | Public | Two-year (public and private not-for-profit) | Two-year | CA    | 1629  | 1.90142    | 75189.6  | 60400      | 0.521952 | 14.504  | 20.8406 | 23.6831 | 21.8798 | 19.0925 | 13.1096        | 11.1495        | 17.076         | 21.3161        | 28.2324\n",
       "1111        | 1986   | Allan Hancock College | Public | Two-year (public and private not-for-profit) | Two-year | CA    | 1501  | 1.52006    | 75956.2  | 62800      | 0.532623 | 13.6274 | 19.2474 | 24.2328 | 24.6692 | 18.2233 | 11.1545        | 9.07775        | 13.3157        | 20.6837        | 23.3106\n",
       "1111        | 1987   | Allan Hancock College | Public | Two-year (public and private not-for-profit) | Two-year | CA    | 1739  | 1.87098    | 72924.2  | 58900      | 0.51635  | 14.1828 | 21.2632 | 23.0286 | 24.4688 | 17.0566 | 13.192         | 10.4235        | 17.3949        | 18.9186        | 22.5195\n",
       "1111        | 1988   | Allan Hancock College | Public | Two-year (public and private not-for-profit) | Two-year | CA    | 1918  | 1.33338    | 71596.1  | 58000      | 0.514305 | 15.1931 | 20.5099 | 22.8872 | 24.312  | 17.0978 | 8.77618        | 13.5246        | 14.7727        | 18.0635        | 20.5855\n",
       "1111        | 1989   | Allan Hancock College | Public | Two-year (public and private not-for-profit) | Two-year | CA    | 1998  | 1.5865     | 70077.8  | 56500      | 0.519966 | 14.9425 | 20.297  | 24.5215 | 23.4795 | 16.7596 | 10.6174        | 13.1677        | 11.0882        | 16.3471        | 20.3295\n",
       "... (1766 rows omitted)"
      ]
     },
     "execution_count": 93,
     "metadata": {},
     "output_type": "execute_result"
    }
   ],
   "source": [
    "mobility_panel = Table.read_table('mrc_table3.csv').select(make_array('super_opeid', 'cohort', 'name', 'type', 'tier', \n",
    "                                                          'iclevel', 'state', 'count', 'mr_kq5_pq1', 'par_mean', 'par_median',\n",
    "                                                          'par_rank', 'par_q1', 'par_q2', 'par_q3', 'par_q4', 'par_q5', 'kq5_cond_parq1', \n",
    "                                                          'kq5_cond_parq2', 'kq5_cond_parq3', 'kq5_cond_parq4', 'kq5_cond_parq5'))\n",
    "\n",
    "#restrict to California public and private (non-profit) institutions\n",
    "ca_mobility_panel = mobility_panel.where('state', are.equal_to('CA')).where('type', are.contained_in(make_array('Public', 'Private Non-profit')))\n",
    "\n",
    "#rescale access, success, and mobility rates\n",
    "ca_mobility_panel = ca_mobility_panel.with_columns(\n",
    "    'par_q1', ca_mobility_panel.column('par_q1')*100,\n",
    "    'par_q2', ca_mobility_panel.column('par_q2')*100,\n",
    "    'par_q3', ca_mobility_panel.column('par_q3')*100,\n",
    "    'par_q4', ca_mobility_panel.column('par_q4')*100,\n",
    "    'par_q5', ca_mobility_panel.column('par_q5')*100,\n",
    "    'kq5_cond_parq1', ca_mobility_panel.column('kq5_cond_parq1')*100,\n",
    "    'kq5_cond_parq2', ca_mobility_panel.column('kq5_cond_parq2')*100,\n",
    "    'kq5_cond_parq3', ca_mobility_panel.column('kq5_cond_parq3')*100,\n",
    "    'kq5_cond_parq4', ca_mobility_panel.column('kq5_cond_parq4')*100,\n",
    "    'kq5_cond_parq5', ca_mobility_panel.column('kq5_cond_parq5')*100,\n",
    "    'mr_kq5_pq1', ca_mobility_panel.column('mr_kq5_pq1')*100\n",
    ")\n",
    "\n",
    "ca_mobility_panel"
   ]
  },
  {
   "cell_type": "markdown",
   "metadata": {},
   "source": [
    "**Longitudinal data**, also referred to as **panel data** follows the same object over time with repeated observations. In this case, the data follow institutions over time.\n",
    "\n",
    "These particular longitudinal data are organized by **cohort**. In general, a cohort is a group of individuals that share some common factor, of a year of birth or year of matriculation. In this case, cohorts are defined by the student's year of birth. For each institution, there is now a separate row of data for students born in each year, ranging from 1980 to 1991.\n",
    "\n",
    "The column `count` records the number of students from each cohort that were included in the underlying data."
   ]
  },
  {
   "cell_type": "markdown",
   "metadata": {},
   "source": [
    "** 3.2 ** Let's measure `access` over time (by cohort), averaging across all public institutions. \n",
    "\n",
    "Notice that `ca_mobility` has some nan values. nan stands for \"Not a Number,\" which can throw off certain calculations like np.mean. In this case, nan values indicate that there was not sufficient data on students for  that cohort and institution, for example, because that institution did not exist (e.g. UC Merced).\n",
    "\n",
    "In general, we can deal with missing or incomplete values is to 'impute' or remove them from the dataset. In this case, we remove them by filtering values that we KNOW are in the proper range (i.e. > 0)."
   ]
  },
  {
   "cell_type": "code",
   "execution_count": 94,
   "metadata": {},
   "outputs": [],
   "source": [
    "ca_mobility_panel = ca_mobility_panel.where('par_q1', are.above(0))"
   ]
  },
  {
   "cell_type": "code",
   "execution_count": 95,
   "metadata": {},
   "outputs": [
    {
     "data": {
      "text/plain": [
       "<matplotlib.text.Text at 0x7f57e9f5bb70>"
      ]
     },
     "execution_count": 95,
     "metadata": {},
     "output_type": "execute_result"
    },
    {
     "data": {
      "image/png": "[encoded data removed]",
      "text/plain": [
       "<matplotlib.figure.Figure at 0x7f57ea0dc6d8>"
      ]
     },
     "metadata": {},
     "output_type": "display_data"
    }
   ],
   "source": [
    "#plot `access` by cohort\n",
    "#note: you will cover the group function later this week in Data 8. The code below collapses the data into cohort level averages.\n",
    "ca_mobility_panel_public = ca_mobility_panel.where('type', are.equal_to('Public')).group('cohort', collect = np.mean)\n",
    "\n",
    "#When plotting we must first select the columns we want to plot\n",
    "ca_mobility_panel_public.select(make_array('cohort','par_q1 mean')).plot(column_for_xticks='cohort')\n",
    "plt.title('Low-Income Percent of Enrollment in California Public Institutions')"
   ]
  },
  {
   "cell_type": "markdown",
   "metadata": {},
   "source": [
    "** 3.3 ** Now, let's separate this figure by institution type.\n",
    "\n",
    "To overlay plots, we had to go outside the datascience package. Here, I used matplotlib, what creates the Table.plot charts. If you're curious, you can learn more\n",
    "[here](https://matplotlib.org/gallery/lines_bars_and_markers/categorical_variables.html?highlight=categorical)."
   ]
  },
  {
   "cell_type": "code",
   "execution_count": 96,
   "metadata": {},
   "outputs": [
    {
     "data": {
      "text/plain": [
       "<matplotlib.legend.Legend at 0x7f57e9e4c2b0>"
      ]
     },
     "execution_count": 96,
     "metadata": {},
     "output_type": "execute_result"
    },
    {
     "data": {
      "image/png": "[encoded data removed]",
      "text/plain": [
       "<matplotlib.figure.Figure at 0x7f57ea4cde10>"
      ]
     },
     "metadata": {},
     "output_type": "display_data"
    }
   ],
   "source": [
    "ca_mobility_two_year = ca_mobility_panel.where('type', are.equal_to('Public')\n",
    "                                            ).where('iclevel', are.equal_to('Two-year')).group('cohort', collect = np.mean)\n",
    "\n",
    "ca_mobility_four_year = ca_mobility_panel.where('type', are.equal_to('Public')\n",
    "                                             ).where('iclevel', are.equal_to('Four-year')).group('cohort', collect = np.mean)\n",
    "\n",
    "plt.plot(ca_mobility_two_year.column('cohort'), ca_mobility_two_year.column('par_q1 mean'), label = 'Two-year')\n",
    "plt.plot(ca_mobility_four_year.column('cohort'), ca_mobility_four_year.column('par_q1 mean'), label = 'Four-year')\n",
    "plt.title('Low-Income Percent of Enrollment in Calfornia Public Institutions, by Type')\n",
    "plt.legend()"
   ]
  },
  {
   "cell_type": "markdown",
   "metadata": {},
   "source": [
    "A couple of key takeaways from this figure:\n",
    "* the *level* of `access` is significantly higher at two-year colleges.\n",
    "* The decline in `access` over time is much steeper for 4-year colleges."
   ]
  },
  {
   "cell_type": "markdown",
   "metadata": {},
   "source": [
    "** 3.4 ** Finally, for comparison's sake, let’s check how low-income access is evolving at private 4-year institutions in California. \n",
    "\n",
    "Perhaps there is some substitution to these institutions, some of which have increased their financial aid offerings over time."
   ]
  },
  {
   "cell_type": "code",
   "execution_count": 101,
   "metadata": {},
   "outputs": [
    {
     "name": "stdout",
     "output_type": "stream",
     "text": [
      "\n"
     ]
    },
    {
     "data": {
      "text/plain": [
       "<matplotlib.legend.Legend at 0x7f57e9afa390>"
      ]
     },
     "execution_count": 101,
     "metadata": {},
     "output_type": "execute_result"
    },
    {
     "data": {
      "image/png": "[encoded data removed]",
      "text/plain": [
       "<matplotlib.figure.Figure at 0x7f57e9d01f28>"
      ]
     },
     "metadata": {},
     "output_type": "display_data"
    }
   ],
   "source": [
    "#use similar code as above, except replace public two-year institutions with private four-year institutions\n",
    "print()\n",
    "ca_mobility_two_year = ca_mobility_panel.where('type', are.equal_to('Private Non-Profit')\n",
    "                                            ).where('iclevel', are.equal_to('Four-year')).group('cohort', collect = np.mean)\n",
    "\n",
    "ca_mobility_four_year = ca_mobility_panel.where('type', are.equal_to('Public')\n",
    "                                             ).where('iclevel', are.equal_to('Four-year')).group('cohort', collect = np.mean)\n",
    "\n",
    "plt.plot(ca_mobility_two_year.column('cohort'), ca_mobility_two_year.column('par_q1 mean'), label = 'Four-year')\n",
    "plt.plot(ca_mobility_four_year.column('cohort'), ca_mobility_four_year.column('par_q1 mean'), label = 'Four-year')\n",
    "plt.title('Low-Income Percent of Enrollment in Calfornia Public Institutions, by Type')\n",
    "plt.legend()"
   ]
  },
  {
   "cell_type": "markdown",
   "metadata": {},
   "source": [
    "In fact, low-income access is also declining at private colleges and universities (note the change in veritcal axis scale).\n",
    "\n",
    "If you're interested in these data, you can play around with [this data exploration tool](https://www.nytimes.com/interactive/projects/college-mobility/) put together by the New York Times."
   ]
  },
  {
   "cell_type": "markdown",
   "metadata": {},
   "source": [
    "To submit the lab, just run this cell below:"
   ]
  },
  {
   "cell_type": "code",
   "execution_count": null,
   "metadata": {},
   "outputs": [],
   "source": [
    "####### ADD OK AUTH ##########\n",
    "\n",
    "from client.api.notebook import Notebook\n",
    "ok = Notebook('lab1.ok')\n",
    "_ = ok.auth(inline=True)\n",
    "_ = ok.submit()"
   ]
  },
  {
   "cell_type": "code",
   "execution_count": null,
   "metadata": {},
   "outputs": [],
   "source": []
  },
  {
   "cell_type": "code",
   "execution_count": null,
   "metadata": {},
   "outputs": [],
   "source": []
  },
  {
   "cell_type": "code",
   "execution_count": null,
   "metadata": {},
   "outputs": [],
   "source": []
  },
  {
   "cell_type": "code",
   "execution_count": null,
   "metadata": {},
   "outputs": [],
   "source": []
  }
 ],
 "metadata": {
  "kernelspec": {
   "display_name": "Python 3",
   "language": "python",
   "name": "python3"
  },
  "language_info": {
   "codemirror_mode": {
    "name": "ipython",
    "version": 3
   },
   "file_extension": ".py",
   "mimetype": "text/x-python",
   "name": "python",
   "nbconvert_exporter": "python",
   "pygments_lexer": "ipython3",
   "version": "3.6.1"
  }
 },
 "nbformat": 4,
 "nbformat_minor": 2
}
